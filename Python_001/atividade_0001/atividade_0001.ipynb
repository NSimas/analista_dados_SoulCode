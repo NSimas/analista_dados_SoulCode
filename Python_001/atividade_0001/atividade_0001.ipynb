{
 "cells": [
  {
   "cell_type": "markdown",
   "metadata": {},
   "source": [
    "#### Variáveis e Tipos de Dados"
   ]
  },
  {
   "cell_type": "markdown",
   "metadata": {},
   "source": [
    "Crie variáveis para armazenar o nome, idade, peso e altura de uma pessoa.\n",
    "Imprima os valores e os tipos de dados dessas variáveis."
   ]
  },
  {
   "cell_type": "code",
   "execution_count": 1,
   "metadata": {},
   "outputs": [
    {
     "name": "stdout",
     "output_type": "stream",
     "text": [
      "Nome:  Fulano Silva <class 'str'>\n",
      "Idade:  47 <class 'int'>\n",
      "Peso:  85.3 <class 'float'>\n",
      "Altura:  1.83 <class 'float'>\n"
     ]
    }
   ],
   "source": [
    "nome = \"Fulano Silva\"\n",
    "idade = 47\n",
    "peso = 85.3\n",
    "altura = 1.83\n",
    "\n",
    "print(\"Nome: \", nome, type(nome))\n",
    "print(\"Idade: \", idade, type(idade))\n",
    "print(\"Peso: \", peso, type(peso))\n",
    "print(\"Altura: \", altura, type(altura))"
   ]
  },
  {
   "cell_type": "markdown",
   "metadata": {},
   "source": [
    "Atualize a variável de peso para um valor diferente e imprima o novo valor."
   ]
  },
  {
   "cell_type": "code",
   "execution_count": 2,
   "metadata": {},
   "outputs": [
    {
     "name": "stdout",
     "output_type": "stream",
     "text": [
      "Nome:  Fulano Silva <class 'str'>\n",
      "Idade:  47 <class 'int'>\n",
      "Peso:  85.3 <class 'float'>\n",
      "Altura:  1.83 <class 'float'>\n",
      "Peso:  90.3 <class 'float'>\n"
     ]
    }
   ],
   "source": [
    "nome = \"Fulano Silva\"\n",
    "idade = 47\n",
    "peso = 85.3\n",
    "altura = 1.83\n",
    "\n",
    "print(\"Nome: \", nome, type(nome))\n",
    "print(\"Idade: \", idade, type(idade))\n",
    "print(\"Peso: \", peso, type(peso))\n",
    "print(\"Altura: \", altura, type(altura))\n",
    "\n",
    "peso = 90.3\n",
    "print(\"Peso: \", peso, type(peso))"
   ]
  },
  {
   "cell_type": "markdown",
   "metadata": {},
   "source": [
    "#### Operadores Matemáticos"
   ]
  },
  {
   "cell_type": "markdown",
   "metadata": {},
   "source": [
    "Crie uma variável a com valor 10 e uma variável b com valor 3. Realize as\n",
    "seguintes operações e imprima os resultados:\n",
    "\n",
    "Soma\n",
    "\n",
    "Subtração\n",
    "\n",
    "Multiplicação\n",
    "\n",
    "Divisão\n",
    "\n",
    "Parte inteira da divisão\n",
    "\n",
    "Resto da divisão\n",
    "\n",
    "Exponenciação"
   ]
  },
  {
   "cell_type": "code",
   "execution_count": 3,
   "metadata": {},
   "outputs": [
    {
     "name": "stdout",
     "output_type": "stream",
     "text": [
      "Soma:  13\n",
      "Subtração:  7\n",
      "Multiplicação:  30\n",
      "Divisão:  3.33\n",
      "Parte inteira da divisão:  3\n",
      "Resto da divisão:  1\n",
      "Exponenciação:  1000\n"
     ]
    }
   ],
   "source": [
    "a = 10\n",
    "b = 3\n",
    "\n",
    "print(\"Soma: \", a + b)\n",
    "print(\"Subtração: \", a - b)\n",
    "print(\"Multiplicação: \", a * b)\n",
    "print(\"Divisão: \", round(a / b, 2))\n",
    "print(\"Parte inteira da divisão: \", a // b)\n",
    "print(\"Resto da divisão: \", a % b)\n",
    "print(\"Exponenciação: \", a ** b)"
   ]
  },
  {
   "cell_type": "markdown",
   "metadata": {},
   "source": [
    "#### Entrada de Dados pelo Usuário"
   ]
  },
  {
   "cell_type": "markdown",
   "metadata": {},
   "source": [
    "Peça ao usuário para digitar seu nome e armazene em uma variável. Imprima\n",
    "uma mensagem de boas-vindas usando o nome fornecido."
   ]
  },
  {
   "cell_type": "code",
   "execution_count": 4,
   "metadata": {},
   "outputs": [
    {
     "name": "stdout",
     "output_type": "stream",
     "text": [
      "Seja bem-vindo(a)  Fulanin di Tal !\n"
     ]
    }
   ],
   "source": [
    "nome = input(\"Digite seu nome: \")\n",
    "print(\"Seja bem-vindo(a) \", nome, \"!\")"
   ]
  },
  {
   "cell_type": "markdown",
   "metadata": {},
   "source": [
    "Peça ao usuário para digitar sua idade, peso e altura. Calcule o IMC e\n",
    "imprima o resultado arredondado para três casas decimais."
   ]
  },
  {
   "cell_type": "code",
   "execution_count": 5,
   "metadata": {},
   "outputs": [
    {
     "name": "stdout",
     "output_type": "stream",
     "text": [
      "Seu IMC é:  27.412\n"
     ]
    }
   ],
   "source": [
    "idade = int(input(\"Digite sua idade: \"))\n",
    "peso = float(input(\"Digite seu peso: \"))\n",
    "altura = float(input(\"Digite sua altura: \"))\n",
    "\n",
    "imc = peso / (altura ** 2)\n",
    "print(\"Seu IMC é: \", round(imc, 3))"
   ]
  },
  {
   "cell_type": "markdown",
   "metadata": {},
   "source": [
    "#### Função de Impressão"
   ]
  },
  {
   "cell_type": "markdown",
   "metadata": {},
   "source": [
    "Peça ao usuário para digitar um número e imprima o número digitado."
   ]
  },
  {
   "cell_type": "code",
   "execution_count": 6,
   "metadata": {},
   "outputs": [
    {
     "name": "stdout",
     "output_type": "stream",
     "text": [
      "O número digitado foi:  2345.0\n"
     ]
    }
   ],
   "source": [
    "numero = float(input(\"Digite um número: \"))\n",
    "print(\"O número digitado foi: \", numero)"
   ]
  },
  {
   "cell_type": "markdown",
   "metadata": {},
   "source": [
    "Peça ao usuário para digitar dois números e imprima a soma deles."
   ]
  },
  {
   "cell_type": "code",
   "execution_count": 7,
   "metadata": {},
   "outputs": [
    {
     "name": "stdout",
     "output_type": "stream",
     "text": [
      "A soma dos números é:  910.42\n"
     ]
    }
   ],
   "source": [
    "numero_1 = float(input(\"Digite o primeiro número, use ponto, não vírgula: \"))\n",
    "numero_2 = float(input(\"Digite o segundo número, use ponto, não vírgula: \"))\n",
    "print(\"A soma dos números é: \", round(numero_1 + numero_2, 2))"
   ]
  }
 ],
 "metadata": {
  "kernelspec": {
   "display_name": "Python 3",
   "language": "python",
   "name": "python3"
  },
  "language_info": {
   "codemirror_mode": {
    "name": "ipython",
    "version": 3
   },
   "file_extension": ".py",
   "mimetype": "text/x-python",
   "name": "python",
   "nbconvert_exporter": "python",
   "pygments_lexer": "ipython3",
   "version": "3.12.5"
  }
 },
 "nbformat": 4,
 "nbformat_minor": 2
}
