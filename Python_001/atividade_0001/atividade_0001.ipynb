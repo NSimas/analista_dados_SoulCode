{
 "cells": [
  {
   "cell_type": "markdown",
   "metadata": {},
   "source": [
    "#### Variáveis e Tipos de Dados"
   ]
  },
  {
   "cell_type": "markdown",
   "metadata": {},
   "source": [
    "Crie variáveis para armazenar o nome, idade, peso e altura de uma pessoa.\n",
    "Imprima os valores e os tipos de dados dessas variáveis."
   ]
  },
  {
   "cell_type": "code",
   "execution_count": 1,
   "metadata": {},
   "outputs": [
    {
     "name": "stdout",
     "output_type": "stream",
     "text": [
      "Nome:  Fulano Silva <class 'str'>\n",
      "Idade:  47 <class 'int'>\n",
      "Peso:  85.3 <class 'float'>\n",
      "Altura:  1.83 <class 'float'>\n"
     ]
    }
   ],
   "source": [
    "nome = \"Fulano Silva\"\n",
    "idade = 47\n",
    "peso = 85.3\n",
    "altura = 1.83\n",
    "\n",
    "print(\"Nome: \", nome, type(nome))\n",
    "print(\"Idade: \", idade, type(idade))\n",
    "print(\"Peso: \", peso, type(peso))\n",
    "print(\"Altura: \", altura, type(altura))"
   ]
  },
  {
   "cell_type": "markdown",
   "metadata": {},
   "source": [
    "Atualize a variável de peso para um valor diferente e imprima o novo valor."
   ]
  },
  {
   "cell_type": "code",
   "execution_count": 2,
   "metadata": {},
   "outputs": [
    {
     "name": "stdout",
     "output_type": "stream",
     "text": [
      "Nome:  Fulano Silva <class 'str'>\n",
      "Idade:  47 <class 'int'>\n",
      "Peso:  85.3 <class 'float'>\n",
      "Altura:  1.83 <class 'float'>\n",
      "Peso:  90.3 <class 'float'>\n"
     ]
    }
   ],
   "source": [
    "nome = \"Fulano Silva\"\n",
    "idade = 47\n",
    "peso = 85.3\n",
    "altura = 1.83\n",
    "\n",
    "print(\"Nome: \", nome, type(nome))\n",
    "print(\"Idade: \", idade, type(idade))\n",
    "print(\"Peso: \", peso, type(peso))\n",
    "print(\"Altura: \", altura, type(altura))\n",
    "\n",
    "peso = 90.3\n",
    "print(\"Peso: \", peso, type(peso))"
   ]
  },
  {
   "cell_type": "markdown",
   "metadata": {},
   "source": [
    "#### Operadores Matemáticos"
   ]
  },
  {
   "cell_type": "markdown",
   "metadata": {},
   "source": [
    "Crie uma variável a com valor 10 e uma variável b com valor 3. Realize as\n",
    "seguintes operações e imprima os resultados:\n",
    "\n",
    "Soma\n",
    "\n",
    "Subtração\n",
    "\n",
    "Multiplicação\n",
    "\n",
    "Divisão\n",
    "\n",
    "Parte inteira da divisão\n",
    "\n",
    "Resto da divisão\n",
    "\n",
    "Exponenciação"
   ]
  },
  {
   "cell_type": "code",
   "execution_count": 3,
   "metadata": {},
   "outputs": [
    {
     "name": "stdout",
     "output_type": "stream",
     "text": [
      "Soma:  13\n",
      "Subtração:  7\n",
      "Multiplicação:  30\n",
      "Divisão:  3.33\n",
      "Parte inteira da divisão:  3\n",
      "Resto da divisão:  1\n",
      "Exponenciação:  1000\n"
     ]
    }
   ],
   "source": [
    "a = 10\n",
    "b = 3\n",
    "\n",
    "print(\"Soma: \", a + b)\n",
    "print(\"Subtração: \", a - b)\n",
    "print(\"Multiplicação: \", a * b)\n",
    "print(\"Divisão: \", round(a / b, 2))\n",
    "print(\"Parte inteira da divisão: \", a // b)\n",
    "print(\"Resto da divisão: \", a % b)\n",
    "print(\"Exponenciação: \", a ** b)"
   ]
  },
  {
   "cell_type": "markdown",
   "metadata": {},
   "source": [
    "#### Entrada de Dados pelo Usuário"
   ]
  },
  {
   "cell_type": "markdown",
   "metadata": {},
   "source": [
    "Peça ao usuário para digitar seu nome e armazene em uma variável. Imprima\n",
    "uma mensagem de boas-vindas usando o nome fornecido."
   ]
  },
  {
   "cell_type": "code",
   "execution_count": 4,
   "metadata": {},
   "outputs": [
    {
     "name": "stdout",
     "output_type": "stream",
     "text": [
      "Seja bem-vindo(a)  Fulanin di Tal !\n"
     ]
    }
   ],
   "source": [
    "nome = input(\"Digite seu nome: \")\n",
    "print(\"Seja bem-vindo(a) \", nome, \"!\")"
   ]
  },
  {
   "cell_type": "markdown",
   "metadata": {},
   "source": [
    "Peça ao usuário para digitar sua idade, peso e altura. Calcule o IMC e\n",
    "imprima o resultado arredondado para três casas decimais."
   ]
  },
  {
   "cell_type": "code",
   "execution_count": 5,
   "metadata": {},
   "outputs": [
    {
     "name": "stdout",
     "output_type": "stream",
     "text": [
      "Seu IMC é:  27.412\n"
     ]
    }
   ],
   "source": [
    "idade = int(input(\"Digite sua idade: \"))\n",
    "peso = float(input(\"Digite seu peso: \"))\n",
    "altura = float(input(\"Digite sua altura: \"))\n",
    "\n",
    "imc = peso / (altura ** 2)\n",
    "print(\"Seu IMC é: \", round(imc, 3))"
   ]
  },
  {
   "cell_type": "markdown",
   "metadata": {},
   "source": [
    "#### Função de Impressão"
   ]
  },
  {
   "cell_type": "markdown",
   "metadata": {},
   "source": [
    "Peça ao usuário para digitar um número e imprima o número digitado."
   ]
  },
  {
   "cell_type": "code",
   "execution_count": 6,
   "metadata": {},
   "outputs": [
    {
     "name": "stdout",
     "output_type": "stream",
     "text": [
      "O número digitado foi:  2345.0\n"
     ]
    }
   ],
   "source": [
    "numero = float(input(\"Digite um número: \"))\n",
    "print(\"O número digitado foi: \", numero)"
   ]
  },
  {
   "cell_type": "markdown",
   "metadata": {},
   "source": [
    "Peça ao usuário para digitar dois números e imprima a soma deles."
   ]
  },
  {
   "cell_type": "code",
   "execution_count": 7,
   "metadata": {},
   "outputs": [
    {
     "name": "stdout",
     "output_type": "stream",
     "text": [
      "A soma dos números é:  910.42\n"
     ]
    }
   ],
   "source": [
    "numero_1 = float(input(\"Digite o primeiro número, use ponto, não vírgula: \"))\n",
    "numero_2 = float(input(\"Digite o segundo número, use ponto, não vírgula: \"))\n",
    "print(\"A soma dos números é: \", round(numero_1 + numero_2, 2))"
   ]
  },
  {
   "cell_type": "markdown",
   "metadata": {},
   "source": [
    "#### Métodos de Strings"
   ]
  },
  {
   "cell_type": "markdown",
   "metadata": {},
   "source": [
    "Peça ao usuário para digitar um e-mail e verifique se o e-mail contém o\n",
    "caractere '@'. Imprima uma mensagem indicando se é um e-mail válido ou não."
   ]
  },
  {
   "cell_type": "code",
   "execution_count": 1,
   "metadata": {},
   "outputs": [
    {
     "name": "stdout",
     "output_type": "stream",
     "text": [
      "O e-mail digitado é válido.\n"
     ]
    }
   ],
   "source": [
    "email = input(\"Digite um e-mail: \")\n",
    "if \"@\" in email:\n",
    "  print(\"O e-mail digitado é válido.\")\n",
    "else:\n",
    "  print(\"O e-mail digitado é inválido.\")"
   ]
  },
  {
   "cell_type": "markdown",
   "metadata": {},
   "source": [
    "Peça ao usuário para digitar uma frase e:\n",
    "Converta a frase para maiúsculas.\n",
    "Converta a frase para minúsculas.\n",
    "Converta a primeira letra de cada palavra para maiúscula.\n",
    "Verifique se a frase começa com uma determinada palavra (ex.: 'Olá')."
   ]
  },
  {
   "cell_type": "code",
   "execution_count": 2,
   "metadata": {},
   "outputs": [
    {
     "name": "stdout",
     "output_type": "stream",
     "text": [
      "Frase digitada em maiúsculas:  ALA KAZAN! ABRA CADABRA! UM TOQUE E VIRA CABRA!\n",
      "Frase digitada em minúsculas:  ala kazan! abra cadabra! um toque e vira cabra!\n",
      "Primeira letra de cada palavra da frase digitada em maiúscula:  Ala Kazan! Abra Cadabra! Um Toque E Vira Cabra!\n"
     ]
    }
   ],
   "source": [
    "frase = input(\"Digite uma frase: \")\n",
    "frase_maiuscula = frase.upper()\n",
    "frase_minuscula = frase.lower()\n",
    "frase_capitalizada = frase.title()\n",
    "print(\"Frase digitada em maiúsculas: \", frase_maiuscula)\n",
    "print(\"Frase digitada em minúsculas: \", frase_minuscula)\n",
    "print(\"Primeira letra de cada palavra da frase digitada em maiúscula: \", frase_capitalizada)"
   ]
  },
  {
   "cell_type": "markdown",
   "metadata": {},
   "source": [
    "#### Listas"
   ]
  },
  {
   "cell_type": "markdown",
   "metadata": {},
   "source": [
    "Crie uma lista com os nomes de cinco amigos. Imprima o nome do terceiro\n",
    "amigo na lista."
   ]
  },
  {
   "cell_type": "code",
   "execution_count": 3,
   "metadata": {},
   "outputs": [
    {
     "name": "stdout",
     "output_type": "stream",
     "text": [
      "O terceiro amigo da lista é:  João\n"
     ]
    }
   ],
   "source": [
    "lista_amigos = [\"Josefa\", \"José\", \"João\", \"Joana\", \"Joaquina\"]\n",
    "print(\"O terceiro amigo da lista é: \", lista_amigos[2])"
   ]
  },
  {
   "cell_type": "markdown",
   "metadata": {},
   "source": [
    "Adicione um novo nome à lista de amigos e remova o primeiro nome.\n",
    "Imprima a lista atualizada."
   ]
  },
  {
   "cell_type": "code",
   "execution_count": 4,
   "metadata": {},
   "outputs": [
    {
     "name": "stdout",
     "output_type": "stream",
     "text": [
      "O terceiro amigo da lista é:  João\n",
      "Lista atualizada:  ['José', 'João', 'Joana', 'Joaquina', 'Deodete']\n"
     ]
    }
   ],
   "source": [
    "lista_amigos = [\"Josefa\", \"José\", \"João\", \"Joana\", \"Joaquina\"]\n",
    "print(\"O terceiro amigo da lista é: \", lista_amigos[2])\n",
    "lista_amigos.append(\"Deodete\")\n",
    "lista_amigos.pop(0)\n",
    "print(\"Lista atualizada: \", lista_amigos)"
   ]
  },
  {
   "cell_type": "markdown",
   "metadata": {},
   "source": [
    "Crie uma lista com as idades dos seus amigos e:\n",
    "\n",
    "Imprima a idade do amigo mais velho.\n",
    "\n",
    "Imprima a idade do amigo mais novo.\n",
    "\n",
    "Calcule e imprima a soma das idades."
   ]
  },
  {
   "cell_type": "code",
   "execution_count": null,
   "metadata": {},
   "outputs": [],
   "source": [
    "lista_idade_amigos = [32, 45, 23, 30, 53, 16]\n",
    "print(\"A idade do amigo mais velho é: \", max(lista_idade_amigos))\n",
    "print(\"A idade do amigo mais novo é: \", min(lista_idade_amigos))\n",
    "print(\"A soma das idades dos amigos é: \", sum(lista_idade_amigos))"
   ]
  },
  {
   "cell_type": "markdown",
   "metadata": {},
   "source": [
    "#### Tuplas"
   ]
  },
  {
   "cell_type": "markdown",
   "metadata": {},
   "source": [
    "Crie uma tupla com as informações de um cliente (nome, idade, peso, altura).\n",
    "Imprima todas as informações."
   ]
  },
  {
   "cell_type": "code",
   "execution_count": 5,
   "metadata": {},
   "outputs": [
    {
     "name": "stdout",
     "output_type": "stream",
     "text": [
      "Nome:  Joana da Silva\n",
      "Idade:  47\n",
      "Peso:  65.3\n",
      "Altura:  1.73\n"
     ]
    }
   ],
   "source": [
    "cliente = (\"Joana da Silva\", 47, 65.3, 1.73)\n",
    "print(\"Nome: \", cliente[0])\n",
    "print(\"Idade: \", cliente[1])\n",
    "print(\"Peso: \", cliente[2])\n",
    "print(\"Altura: \", cliente[3])"
   ]
  },
  {
   "cell_type": "markdown",
   "metadata": {},
   "source": [
    "Crie uma nova tupla concatenando a tupla do exercício anterior com o e-mail\n",
    "do cliente. Imprima a nova tupla."
   ]
  },
  {
   "cell_type": "code",
   "execution_count": 6,
   "metadata": {},
   "outputs": [
    {
     "name": "stdout",
     "output_type": "stream",
     "text": [
      "Nome:  Joana da Silva\n",
      "Idade:  47\n",
      "Peso:  65.3\n",
      "Altura:  1.73\n",
      "E-mail:  joana.silva@email.com\n"
     ]
    }
   ],
   "source": [
    "cliente = (\"Joana da Silva\", 47, 65.3, 1.73)\n",
    "cliente_email = cliente + (\"joana.silva@email.com\",)\n",
    "print(\"Nome: \", cliente_email[0])\n",
    "print(\"Idade: \", cliente_email[1])\n",
    "print(\"Peso: \", cliente_email[2])\n",
    "print(\"Altura: \", cliente_email[3])\n",
    "print(\"E-mail: \", cliente_email[4])"
   ]
  },
  {
   "cell_type": "markdown",
   "metadata": {},
   "source": [
    "#### Dicionários"
   ]
  },
  {
   "cell_type": "markdown",
   "metadata": {},
   "source": [
    "Crie um dicionário com informações de um cliente\n",
    "(nome, idade, peso, altura). Imprima o valor associado à chave 'nome'."
   ]
  },
  {
   "cell_type": "code",
   "execution_count": 7,
   "metadata": {},
   "outputs": [
    {
     "name": "stdout",
     "output_type": "stream",
     "text": [
      "Nome:  Joana da Silva\n"
     ]
    }
   ],
   "source": [
    "cliente = {\n",
    "    \"nome\": \"Joana da Silva\",\n",
    "    \"idade\": 36,\n",
    "    \"peso\": 58.3,\n",
    "    \"altura\": 1.58\n",
    "}\n",
    "print(\"Nome: \", cliente[\"nome\"])"
   ]
  },
  {
   "cell_type": "markdown",
   "metadata": {},
   "source": [
    "Adicione uma nova chave 'email' ao dicionário do exercício anterior e\n",
    "imprima o dicionário atualizado."
   ]
  },
  {
   "cell_type": "code",
   "execution_count": 8,
   "metadata": {},
   "outputs": [
    {
     "name": "stdout",
     "output_type": "stream",
     "text": [
      "{'nome': 'Joana da Silva', 'idade': 36, 'peso': 58.3, 'altura': 1.58, 'email': 'joana.silva@email.com'}\n"
     ]
    }
   ],
   "source": [
    "cliente[\"email\"] = \"joana.silva@email.com\"\n",
    "print(cliente)"
   ]
  },
  {
   "cell_type": "markdown",
   "metadata": {},
   "source": [
    "Remova a chave 'peso' do dicionário e verifique se a chave 'endereço' está\n",
    "no dicionário. Imprima os resultados."
   ]
  },
  {
   "cell_type": "code",
   "execution_count": 9,
   "metadata": {},
   "outputs": [
    {
     "name": "stdout",
     "output_type": "stream",
     "text": [
      "Não localizamos a chave \"endereço\" no dicionário.\n"
     ]
    }
   ],
   "source": [
    "cliente.pop(\"peso\")\n",
    "if \"endereco\" in cliente:\n",
    "  print(\"A chave endereço foi localizada no dicionário.\")\n",
    "else:\n",
    "  print(\"Não localizamos a chave \\\"endereço\\\" no dicionário.\")"
   ]
  },
  {
   "cell_type": "markdown",
   "metadata": {},
   "source": [
    "#### Controle de Fluxo"
   ]
  },
  {
   "cell_type": "markdown",
   "metadata": {},
   "source": [
    "Condicionais\n",
    "\n",
    "Peça ao usuário para digitar sua idade e verifique se ele é menor de idade,\n",
    " adulto ou idoso. Imprima uma mensagem correspondente."
   ]
  },
  {
   "cell_type": "code",
   "execution_count": 10,
   "metadata": {},
   "outputs": [
    {
     "name": "stdout",
     "output_type": "stream",
     "text": [
      "Adulto.\n"
     ]
    }
   ],
   "source": [
    "idade = int(input(\"Digite sua idade: \"))\n",
    "if idade >=0 and idade < 18:\n",
    "  print(\"Menor de idade.\")\n",
    "elif idade >= 60 and idade <= 110:\n",
    "  print(\"Idoso.\")\n",
    "elif idade >= 18 and idade < 60:\n",
    "  print(\"Adulto.\")\n",
    "elif idade > 110:\n",
    "  print(\"Mumia.\")\n",
    "else:\n",
    "  print(\"Idade inválida.\")"
   ]
  },
  {
   "cell_type": "markdown",
   "metadata": {},
   "source": [
    "Condicionais\n",
    "\n",
    "Peça ao usuário para digitar uma nota (0 a 100) e imprima se ele foi\n",
    "aprovado (nota >= 60) ou reprovado."
   ]
  },
  {
   "cell_type": "code",
   "execution_count": 11,
   "metadata": {},
   "outputs": [
    {
     "name": "stdout",
     "output_type": "stream",
     "text": [
      "Reprovado.\n"
     ]
    }
   ],
   "source": [
    "nota = int(input(\"Digite sua nota em números inteiros de 0 a 100: \"))\n",
    "if nota >= 0 and nota <= 100:\n",
    "  if nota >= 60:\n",
    "    print(\"Aprovado.\")\n",
    "  else:\n",
    "    print(\"Reprovado.\")\n",
    "else:\n",
    "  print(\"Nota inválida.\")"
   ]
  },
  {
   "cell_type": "markdown",
   "metadata": {},
   "source": [
    "Loop FOR\n",
    "\n",
    "Crie uma lista com os nomes de cinco cidades. Use um loop for para imprimir\n",
    "cada nome de cidade."
   ]
  },
  {
   "cell_type": "code",
   "execution_count": 12,
   "metadata": {},
   "outputs": [
    {
     "name": "stdout",
     "output_type": "stream",
     "text": [
      "Rio grande da Serra\n",
      "Ourinhos\n",
      "Feira de Santana\n",
      "Santarém\n",
      "Porto de Galinhas\n"
     ]
    }
   ],
   "source": [
    "lista_cidades = [\"Rio grande da Serra\", \"Ourinhos\", \"Feira de Santana\", \"Santarém\", \"Porto de Galinhas\"]\n",
    "for cidade in lista_cidades:\n",
    "  print(cidade)"
   ]
  },
  {
   "cell_type": "markdown",
   "metadata": {},
   "source": [
    "Loop FOR\n",
    "\n",
    "Crie uma lista com os números de 1 a 10. Use um loop for para imprimir o\n",
    "quadrado de cada número."
   ]
  },
  {
   "cell_type": "code",
   "execution_count": 13,
   "metadata": {},
   "outputs": [
    {
     "name": "stdout",
     "output_type": "stream",
     "text": [
      "1\n",
      "4\n",
      "9\n",
      "16\n",
      "25\n",
      "36\n",
      "49\n",
      "64\n",
      "81\n",
      "100\n"
     ]
    }
   ],
   "source": [
    "lista_numeros = [1, 2, 3, 4, 5, 6, 7, 8, 9, 10]\n",
    "for numero in lista_numeros:\n",
    "  print(numero ** 2)"
   ]
  },
  {
   "cell_type": "markdown",
   "metadata": {},
   "source": [
    "#### Estudo de caso 01"
   ]
  },
  {
   "cell_type": "markdown",
   "metadata": {},
   "source": [
    "Contexto:\n",
    "\n",
    "Uma empresa precisa registrar informações sobre seus clientes e calcular o IMC\n",
    "(Índice de Massa Corporal) de cada um deles. As informações devem ser\n",
    "armazenadas em um dicionário e exibidas ao final.\n",
    "\n",
    "Requisitos:\n",
    "\n",
    "Peça ao usuário para inserir os seguintes dados de um cliente:\n",
    "\n",
    "Nome\n",
    "\n",
    "Idade\n",
    "\n",
    "Peso (em kg)\n",
    "\n",
    "Altura (em metros)\n",
    "\n",
    "E-mail\n",
    "\n",
    "Armazene essas informações em um dicionário.\n",
    "\n",
    "Calcule o IMC do cliente (IMC = Peso / (Altura * Altura)) e adicione esse valor ao dicionário.\n",
    "\n",
    "Exiba todas as informações do cliente, incluindo o IMC arredondado para duas casas decimais."
   ]
  },
  {
   "cell_type": "code",
   "execution_count": 14,
   "metadata": {},
   "outputs": [
    {
     "name": "stdout",
     "output_type": "stream",
     "text": [
      " ------------ Informações da pessoa ------------ \n",
      "Nome:  Fulanin di Tal\n",
      "Idade:  51\n",
      "Peso:  73.0\n",
      "Altura:  1.64\n",
      "E-mail:  fulanin.tal@mailzin.com\n",
      "IMC da pessoa:  27.14\n"
     ]
    }
   ],
   "source": [
    "nome = input(\"Digite o nome completo da pessoa: \")\n",
    "idade = int(input(\"Digite a idade da pessoa: \"))\n",
    "peso = float(input(\"Digite o peso da pessoa em kg, use ponto, não vírgula: \"))\n",
    "altura = float(input(\"Digite a altura da pessoa em metros, use ponto, não vírgula: \"))\n",
    "email = input(\"Digite o e-mail da pessoa: \")\n",
    "\n",
    "cliente = {\n",
    "    \"nome\": nome,\n",
    "    \"idade\": idade,\n",
    "    \"peso\": peso,\n",
    "    \"altura\": altura,\n",
    "    \"email\": email\n",
    "}\n",
    "\n",
    "imc = round(peso / (altura ** 2), 2)\n",
    "\n",
    "cliente[\"imc\"] = imc\n",
    "\n",
    "print(\" ------------ Informações da pessoa ------------ \")\n",
    "print(\"Nome: \", cliente[\"nome\"])\n",
    "print(\"Idade: \", cliente[\"idade\"])\n",
    "print(\"Peso: \", cliente[\"peso\"])\n",
    "print(\"Altura: \", cliente[\"altura\"])\n",
    "print(\"E-mail: \", cliente[\"email\"])\n",
    "print(\"IMC da pessoa: \", cliente[\"imc\"])"
   ]
  },
  {
   "cell_type": "markdown",
   "metadata": {},
   "source": [
    "#### Estudo de Caso 02"
   ]
  },
  {
   "cell_type": "markdown",
   "metadata": {},
   "source": [
    "Uma escola precisa analisar as notas de seus alunos e determinar se cada aluno\n",
    "foi aprovado ou reprovado. As notas serão armazenadas em uma lista e a análise\n",
    "deve ser realizada em um loop.\n",
    "\n",
    "Peça ao usuário para inserir o nome e a nota de cinco alunos.\n",
    "Armazene os nomes e as notas em listas separadas.\n",
    "Atencao, como sao listas separadas, considere que as posicoes de alunos\n",
    "e notas sao as mesmas.\n",
    "\n",
    "Ex: notas = [10 , 9]\n",
    "\n",
    "alunos = [\"A\",\"B\"]\n",
    "\n",
    "posicoes  0   1\n",
    "\n",
    "Aluno A nota 10\n",
    "\n",
    "Aluno B nota 9\n",
    "\n",
    "Para cada aluno, verifique se a nota é maior ou igual a 60. Se sim, o aluno está\n",
    "aprovado; caso contrário, está reprovado.\n",
    "\n",
    "Exiba uma mensagem para cada aluno informando seu nome, nota e se foi aprovado\n",
    "ou reprovado."
   ]
  },
  {
   "cell_type": "code",
   "execution_count": 15,
   "metadata": {},
   "outputs": [
    {
     "name": "stdout",
     "output_type": "stream",
     "text": [
      "O(a) educando(a)  Diogo  foi reprovado(a) com nota  4.6\n",
      "O(a) educando(a)  Eduarda  foi aprovado(a) com nota  8.6\n",
      "O(a) educando(a)  Rita  foi aprovado(a) com nota  9.2\n",
      "O(a) educando(a)  Valéria  foi aprovado(a) com nota  10.0\n",
      "O(a) educando(a)  Camille  foi aprovado(a) com nota  7.5\n"
     ]
    }
   ],
   "source": [
    "nome_1 = input(\"Digite o nome do primeiro educando: \")\n",
    "nota_1 = float(input(\"Digite a nota do primeiro educando: \"))\n",
    "nome_2 = input(\"Digite o nome do segundo educando: \")\n",
    "nota_2 = float(input(\"Digite a nota do segundo educando: \"))\n",
    "nome_3 = input(\"Digite o nome do terceiro educando: \")\n",
    "nota_3 = float(input(\"Digite a nota do terceiro educando: \"))\n",
    "nome_4 = input(\"Digite o nome do quarto educando: \")\n",
    "nota_4 = float(input(\"Digite a nota do quarto educando: \"))\n",
    "nome_5 = input(\"Digite o nome do quinto educando: \")\n",
    "nota_5 = float(input(\"Digite a nota do quinto educando: \"))\n",
    "\n",
    "educandos = [nome_1, nome_2, nome_3, nome_4, nome_5]\n",
    "notas = [nota_1, nota_2, nota_3, nota_4, nota_5]\n",
    "\n",
    "for i in range(len(educandos)):\n",
    "  if notas[i] >= 6:\n",
    "    print(\"O(a) educando(a) \", educandos[i], \" foi aprovado(a) com nota \", notas[i])\n",
    "  else:\n",
    "    print(\"O(a) educando(a) \", educandos[i], \" foi reprovado(a) com nota \", notas[i])"
   ]
  },
  {
   "cell_type": "markdown",
   "metadata": {},
   "source": [
    "#### Estudo de caso 03"
   ]
  },
  {
   "cell_type": "markdown",
   "metadata": {},
   "source": [
    "Uma empresa deseja realizar uma pesquisa de opinião com cinco participantes\n",
    "sobre um novo produto. As respostas devem ser armazenadas e analisadas para\n",
    "verificar a satisfação dos clientes.\n",
    "\n",
    "Peça ao usuário para inserir o nome e a opinião (satisfeito/insatisfeito) de\n",
    "cinco participantes.\n",
    "\n",
    "Armazene os nomes e as opiniões em um dicionário. Mesma lógica da questão anterior.\n",
    "Conte o número de participantes satisfeitos e insatisfeitos.\n",
    "\n",
    "Exiba a lista de participantes satisfeitos e insatisfeitos, bem como o número\n",
    "total de cada categoria."
   ]
  },
  {
   "cell_type": "code",
   "execution_count": 16,
   "metadata": {},
   "outputs": [
    {
     "name": "stdout",
     "output_type": "stream",
     "text": [
      "\n",
      "Participantes satisfeitos:\n",
      "Romária\n",
      "Ingrid\n",
      "Silvéria\n",
      "Total de satisfeitos: 3\n",
      "\n",
      "Participantes insatisfeitos:\n",
      "Reynaldo\n",
      "Patrícia\n",
      "Total de insatisfeitos: 2\n"
     ]
    }
   ],
   "source": [
    "dic_participantes = {}\n",
    "\n",
    "for i in range(5):\n",
    "    nome = input(f\"Digite o nome do participante {i+1}: \")\n",
    "    opiniao = input(f\"Digite a opinião do participante {i+1} (1 p/ satisfeito e 2 p/ insatisfeito): \")\n",
    "    if opiniao == \"1\":\n",
    "        opiniao = \"satisfeito\"\n",
    "    elif opiniao == \"2\":\n",
    "        opiniao = \"insatisfeito\"\n",
    "    dic_participantes[nome] = opiniao\n",
    "\n",
    "lista_satisfeitos = []\n",
    "lista_insatisfeitos = []\n",
    "\n",
    "for nome, opiniao in dic_participantes.items():\n",
    "    if opiniao == \"satisfeito\":\n",
    "        lista_satisfeitos.append(nome)\n",
    "    elif opiniao == \"insatisfeito\":\n",
    "        lista_insatisfeitos.append(nome)\n",
    "\n",
    "print(\"\\nParticipantes satisfeitos:\")\n",
    "for nome in lista_satisfeitos:\n",
    "    print(nome)\n",
    "print(f\"Total de satisfeitos: {len(lista_satisfeitos)}\")\n",
    "\n",
    "print(\"\\nParticipantes insatisfeitos:\")\n",
    "for nome in lista_insatisfeitos:\n",
    "    print(nome)\n",
    "print(f\"Total de insatisfeitos: {len(lista_insatisfeitos)}\")"
   ]
  },
  {
   "cell_type": "markdown",
   "metadata": {},
   "source": [
    "#### Funcões"
   ]
  },
  {
   "cell_type": "markdown",
   "metadata": {},
   "source": [
    "Escreva um função que receba um número inteiro e imprima o mês\n",
    "correspondente ao número. Por exemplo, 2 corresponde à “fevereiro”. A função\n",
    "deve mostrar uma mensagem de erro caso o número recebido não faça sentido. Gere\n",
    "também um algoritmo que leia um valor e chame a função criada."
   ]
  },
  {
   "cell_type": "code",
   "execution_count": 17,
   "metadata": {},
   "outputs": [
    {
     "name": "stdout",
     "output_type": "stream",
     "text": [
      "Junho\n"
     ]
    }
   ],
   "source": [
    "dict_meses = {\n",
    "    1: \"Janeiro\",\n",
    "    2: \"Fevereiro\",\n",
    "    3: \"Março\",\n",
    "    4: \"Abril\",\n",
    "    5: \"Maio\",\n",
    "    6: \"Junho\",\n",
    "    7: \"Julho\",\n",
    "    8: \"Agosto\",\n",
    "    9: \"Setembro\",\n",
    "    10: \"Outubro\",\n",
    "    11: \"Novembro\",\n",
    "    12: \"Dezembro\"\n",
    "}\n",
    "\n",
    "def numero_mes(numero):\n",
    "  if numero in dict_meses:\n",
    "    print(dict_meses[numero])\n",
    "  else:\n",
    "    print(\"Número inválido.\")\n",
    "\n",
    "numero = int(input(\"Digite um número de 1 a 12: \"))\n",
    "numero_mes(numero)"
   ]
  },
  {
   "cell_type": "markdown",
   "metadata": {},
   "source": [
    "Escreva uma função que receba um número inteiro e retorne sua forma\n",
    "por extenso. A função deve ser capaz de gerar o extenso dos números\n",
    "de 0 a 10, inclusive. Caso o número recebido esteja fora desse\n",
    "intervalo, a função deve retornar uma mensagem de erro. Além disso,\n",
    "crie um algoritmo que leia um valor inteiro e utilize a função criada\n",
    "para exibir o número por extenso."
   ]
  },
  {
   "cell_type": "code",
   "execution_count": 18,
   "metadata": {},
   "outputs": [
    {
     "name": "stdout",
     "output_type": "stream",
     "text": [
      "cinco\n"
     ]
    }
   ],
   "source": [
    "dict_numero_extenso = {\n",
    "    0: \"zero\",\n",
    "    1: \"um\",\n",
    "    2: \"dois\",\n",
    "    3: \"três\",\n",
    "    4: \"quatro\",\n",
    "    5: \"cinco\",\n",
    "    6: \"seis\",\n",
    "    7: \"sete\",\n",
    "    8: \"oito\",\n",
    "    9: \"nove\",\n",
    "    10: \"dez\"\n",
    "}\n",
    "\n",
    "def numero_extenso(numero_1):\n",
    "  if numero_1 in dict_numero_extenso:\n",
    "    print(dict_numero_extenso[numero_1])\n",
    "  else:\n",
    "    print(\"Número inválido. Digite um número inteiro de 0 a 10.\")\n",
    "\n",
    "numero_1 = int(input(\"Digite um número de 0 a 10: \"))\n",
    "numero_extenso(numero_1)"
   ]
  },
  {
   "cell_type": "markdown",
   "metadata": {},
   "source": [
    "Escreva uma função que receba dois números inteiros x e y. Essa\n",
    "função deve verificar se x é divisível por y. No caso positivo,\n",
    "a função deve retornar 1, caso contrário zero.\n",
    "Escreva também um algoritmo para testar tal função."
   ]
  },
  {
   "cell_type": "code",
   "execution_count": 19,
   "metadata": {},
   "outputs": [
    {
     "name": "stdout",
     "output_type": "stream",
     "text": [
      "0\n"
     ]
    }
   ],
   "source": [
    "def divisivel(x, y):\n",
    "  if x % y == 0:\n",
    "    return 1\n",
    "  else:\n",
    "    return 0\n",
    "\n",
    "x = int(input(\"Digite o primeiro número: \"))\n",
    "y = int(input(\"Digite o segundo número: \"))\n",
    "print(divisivel(x, y))"
   ]
  },
  {
   "cell_type": "markdown",
   "metadata": {},
   "source": [
    "#### Outras Questões"
   ]
  },
  {
   "cell_type": "markdown",
   "metadata": {},
   "source": [
    "Faça um programa que leia 2 strings e informe o conteúdo delas seguido do seu comprimento.\n",
    "Informe também se as duas strings possuem o mesmo comprimento e são iguais ou diferentes no conteúdo.\n",
    "\n",
    "##### Exemplo:\n",
    "Compara duas strings\n",
    "\n",
    "String 1: Brasil Hexa 2006\n",
    "\n",
    "String 2: Brasil! Hexa 2006!\n",
    "\n",
    "Tamanho de \"Brasil Hexa 2006\": 16 caracteres\n",
    "\n",
    "Tamanho de \"Brasil! Hexa 2006!\": 18 caracteres\n",
    "\n",
    "As duas strings são de tamanhos diferentes.\n",
    "\n",
    "As duas strings possuem conteúdo diferente."
   ]
  },
  {
   "cell_type": "code",
   "execution_count": 20,
   "metadata": {},
   "outputs": [
    {
     "name": "stdout",
     "output_type": "stream",
     "text": [
      "A primeira string digitada foi: Abra cadabra; que possui 12 caracteres.\n",
      "A segunda string digitada foi: Ala kazan!; que possui 10 caracteres.\n",
      "As duas strings são de tamanhos diferentes.\n",
      "As duas strings possuem conteúdo diferente.\n"
     ]
    }
   ],
   "source": [
    "def compara_strings(string_1, string_2):\n",
    "  print(f\"A primeira string digitada foi: {string_1}; que possui {len(string_1)} caracteres.\")\n",
    "  print(f\"A segunda string digitada foi: {string_2}; que possui {len(string_2)} caracteres.\")\n",
    "\n",
    "  if len(string_1) == len(string_2):\n",
    "    print(\"As duas strings são de tamanhos iguais.\")\n",
    "  else:\n",
    "    print(\"As duas strings são de tamanhos diferentes.\")\n",
    "\n",
    "  if string_1 == string_2:\n",
    "    print(\"As duas strings possuem conteúdo igual.\")\n",
    "  else:\n",
    "    print(\"As duas strings possuem conteúdo diferente.\")\n",
    "\n",
    "\n",
    "string_1 = input(\"Digite a primeira string: \")\n",
    "string_2 = input(\"Digite a segunda string: \")\n",
    "compara_strings(string_1, string_2)"
   ]
  },
  {
   "cell_type": "markdown",
   "metadata": {},
   "source": [
    "Valida e corrige número de telefone. Faça um programa que leia um número de telefone,\n",
    "e corrija o número no caso deste conter somente 7 dígitos, acrescentando o '3' na frente.\n",
    "O usuário pode informar o número com ou sem o traço separador.\n",
    "\n",
    "Valida e corrige número de telefone\n",
    "\n",
    "Telefone: 461-0133\n",
    "\n",
    "Telefone possui 7 dígitos. Vou acrescentar o digito três na frente.\n",
    "\n",
    "Telefone corrigido sem formatação: 34610133\n",
    "\n",
    "Telefone corrigido com formatação: 3461-0133"
   ]
  },
  {
   "cell_type": "code",
   "execution_count": 21,
   "metadata": {},
   "outputs": [
    {
     "name": "stdout",
     "output_type": "stream",
     "text": [
      "Telefone possui 7 dígitos. Vou acrescentar o digito 3 na frente.\n",
      "Telefone corrigido sem formatação: 33285739\n",
      "Telefone corrigido com formatação: 3328-5739\n"
     ]
    }
   ],
   "source": [
    "def formata_telefone(telefone):\n",
    "    telefone = telefone.replace(\"-\", \"\").replace(\" \", \"\").replace(\"(\", \"\").replace(\")\", \"\").replace(\".\", \"\")\n",
    "    \n",
    "    if telefone.isnumeric():\n",
    "\n",
    "      if len(telefone) == 7:\n",
    "        telefone = \"3\" + telefone\n",
    "        print(f\"Telefone possui 7 dígitos. Vou acrescentar o digito 3 na frente.\")\n",
    "        print(f\"Telefone corrigido sem formatação: {telefone}\")\n",
    "        telefone = telefone[:4] + \"-\" + telefone[4:]\n",
    "        print(f\"Telefone corrigido com formatação: {telefone}\")\n",
    "        return True\n",
    "        \n",
    "    print(\"Número de telefone inválido.\")\n",
    "    return False\n",
    "\n",
    "while True:\n",
    "    telefone = input(\"Digite o número de telefone sem código de área, DDD: \")\n",
    "    if formata_telefone(telefone):\n",
    "        break"
   ]
  },
  {
   "cell_type": "markdown",
   "metadata": {},
   "source": [
    "Faça um programa que solicite a data de nascimento (dd/mm/aaaa) do usuário e imprima a data com o nome do mês por extenso.\n",
    "\n",
    "Data de Nascimento: 29/10/1973\n",
    "\n",
    "Você nasceu em  29 de Outubro de 1973."
   ]
  },
  {
   "cell_type": "code",
   "execution_count": 25,
   "metadata": {},
   "outputs": [
    {
     "name": "stdout",
     "output_type": "stream",
     "text": [
      "Você nasceu em 25 de Julho de 1995.\n"
     ]
    }
   ],
   "source": [
    "\n",
    "import datetime\n",
    "\n",
    "dict_meses = {\n",
    "    1: \"Janeiro\",\n",
    "    2: \"Fevereiro\",\n",
    "    3: \"Março\",\n",
    "    4: \"Abril\",\n",
    "    5: \"Maio\",\n",
    "    6: \"Junho\",\n",
    "    7: \"Julho\",\n",
    "    8: \"Agosto\",\n",
    "    9: \"Setembro\",\n",
    "    10: \"Outubro\",\n",
    "    11: \"Novembro\",\n",
    "    12: \"Dezembro\"\n",
    "}\n",
    "\n",
    "def formata_data_nascimento():\n",
    "    data_nascimento = input(\"Digite sua data de nascimento (dd/mm/aaaa): \")\n",
    "    data = datetime.datetime.strptime(data_nascimento, \"%d/%m/%Y\")\n",
    "    dia = data.day\n",
    "    mes = data.month\n",
    "    ano = data.year\n",
    "    return f\"Você nasceu em {dia} de {dict_meses[mes]} de {ano}.\"\n",
    "\n",
    "print(formata_data_nascimento())"
   ]
  },
  {
   "cell_type": "markdown",
   "metadata": {},
   "source": [
    "Faça um programa que converta da notação de 24 horas para a notação de 12 horas.\n",
    "Por exemplo, o programa deve converter 14:25 em 2:25 P.M. A entrada é dada em dois inteiros (hora e minuto)."
   ]
  },
  {
   "cell_type": "code",
   "execution_count": 28,
   "metadata": {},
   "outputs": [
    {
     "name": "stdout",
     "output_type": "stream",
     "text": [
      "8:35 A.M.\n"
     ]
    }
   ],
   "source": [
    "def converter_formato_hora(hora_24, minuto):\n",
    "    if hora_24 < 0 or hora_24 > 23 or minuto < 0 or minuto > 59:\n",
    "        return \"Hora inválida\"\n",
    "    \n",
    "    if hora_24 == 0:\n",
    "        periodo = \"A.M.\"\n",
    "        hora_12 = 12\n",
    "    elif hora_24 == 12:\n",
    "        periodo = \"P.M.\"\n",
    "        hora_12 = 12\n",
    "    elif hora_24 > 12:\n",
    "        periodo = \"P.M.\"\n",
    "        hora_12 = hora_24 - 12\n",
    "    else:\n",
    "        periodo = \"A.M.\"\n",
    "        hora_12 = hora_24\n",
    "\n",
    "    return f\"{hora_12}:{minuto:02d} {periodo}\"\n",
    "\n",
    "entrada = input(\"Digite a hora no formato 24 horas (HH:MM): \")\n",
    "\n",
    "hora_24, minuto = map(int, entrada.split(':'))\n",
    "\n",
    "hora_12 = converter_formato_hora(hora_24, minuto)\n",
    "print(hora_12)"
   ]
  },
  {
   "cell_type": "markdown",
   "metadata": {},
   "source": [
    "Usando while, valide cada informação\n",
    "\n",
    "Faça um programa que leia e valide as seguintes informações:\n",
    "\n",
    "Nome: maior que 3 caracteres;\n",
    "\n",
    "Idade: entre 0 e 150;\n",
    "\n",
    "Salário: maior que zero;\n",
    "\n",
    "Estado Civil: 's', 'c', 'v', 'd';"
   ]
  },
  {
   "cell_type": "code",
   "execution_count": 31,
   "metadata": {},
   "outputs": [
    {
     "name": "stdout",
     "output_type": "stream",
     "text": [
      "Nome válido.\n",
      "Erro 751: Idade deve ser um número inteiro.\n",
      "Idade inválida. A idade deve estar entre 0 e 150 anos.\n",
      "Idade inválida. A idade deve estar entre 0 e 150 anos.\n",
      "Idade válida.\n",
      "Erro 751: Salário deve ser um número decimal.\n",
      "Erro 751: Salário deve ser um número decimal.\n",
      "Salário válido.\n",
      "Estado civil inválido. Digite s para solteiro(a), c para casado(a), v para viúvo(a) ou d para divorciado(a).\n",
      "Estado civil inválido. Digite s para solteiro(a), c para casado(a), v para viúvo(a) ou d para divorciado(a).\n",
      "Estado civil inválido. Digite s para solteiro(a), c para casado(a), v para viúvo(a) ou d para divorciado(a).\n",
      "Estado civil inválido. Digite s para solteiro(a), c para casado(a), v para viúvo(a) ou d para divorciado(a).\n",
      "Estado civil inválido. Digite s para solteiro(a), c para casado(a), v para viúvo(a) ou d para divorciado(a).\n",
      "Estado civil inválido. Digite s para solteiro(a), c para casado(a), v para viúvo(a) ou d para divorciado(a).\n",
      "Estado civil válido.\n",
      "Nome: Fulanin, Idade: 34, Salário: 34.6, Estado Civil: c\n"
     ]
    }
   ],
   "source": [
    "def validar_nome(nome):\n",
    "    if len(nome) < 3:\n",
    "        return False, \"Nome inválido. O nome deve ter no mínimo 3 caracteres.\"\n",
    "    return True, \"Nome válido.\"\n",
    "\n",
    "def validar_idade(idade):\n",
    "    if idade < 0 or idade > 150:\n",
    "        return False, \"Idade inválida. A idade deve estar entre 0 e 150 anos.\"\n",
    "    return True, \"Idade válida.\"\n",
    "\n",
    "def validar_salario(salario):\n",
    "    if salario < 0:\n",
    "        return False, \"Salário inválido. O salário deve ser um valor positivo.\"\n",
    "    return True, \"Salário válido.\"\n",
    "\n",
    "def validar_estado_civil(estado_civil):\n",
    "    if estado_civil not in [\"s\", \"c\", \"v\", \"d\"]:\n",
    "        return False, \"Estado civil inválido. Digite s para solteiro(a), c para casado(a), v para viúvo(a) ou d para divorciado(a).\"\n",
    "    return True, \"Estado civil válido.\"\n",
    "\n",
    "def obter_nome():\n",
    "    while True:\n",
    "        nome = input(\"Digite o nome: \")\n",
    "        valido, mensagem = validar_nome(nome)\n",
    "        print(mensagem)\n",
    "        if valido:\n",
    "            return nome\n",
    "\n",
    "def obter_idade():\n",
    "    while True:\n",
    "        try:\n",
    "            idade = int(input(\"Digite a idade: \"))\n",
    "            valido, mensagem = validar_idade(idade)\n",
    "            print(mensagem)\n",
    "            if valido:\n",
    "                return idade\n",
    "        except ValueError:\n",
    "            print(\"Erro 751: Idade deve ser um número inteiro.\")\n",
    "\n",
    "def obter_salario():\n",
    "    while True:\n",
    "        try:\n",
    "            salario = float(input(\"Digite o salário, use ponto, não vírgula: \"))\n",
    "            valido, mensagem = validar_salario(salario)\n",
    "            print(mensagem)\n",
    "            if valido:\n",
    "                return salario\n",
    "        except ValueError:\n",
    "            print(\"Erro 751: Salário deve ser um número decimal.\")\n",
    "\n",
    "def obter_estado_civil():\n",
    "    while True:\n",
    "        estado_civil = input(\"Digite o estado civil (s, c, v ou d): \")\n",
    "        valido, mensagem = validar_estado_civil(estado_civil)\n",
    "        print(mensagem)\n",
    "        if valido:\n",
    "            return estado_civil\n",
    "\n",
    "nome = obter_nome()\n",
    "idade = obter_idade()\n",
    "salario = obter_salario()\n",
    "estado_civil = obter_estado_civil()\n",
    "\n",
    "print(f\"Nome: {nome}, Idade: {idade}, Salário: {salario}, Estado Civil: {estado_civil}\")"
   ]
  }
 ],
 "metadata": {
  "kernelspec": {
   "display_name": "Python 3",
   "language": "python",
   "name": "python3"
  },
  "language_info": {
   "codemirror_mode": {
    "name": "ipython",
    "version": 3
   },
   "file_extension": ".py",
   "mimetype": "text/x-python",
   "name": "python",
   "nbconvert_exporter": "python",
   "pygments_lexer": "ipython3",
   "version": "3.12.5"
  }
 },
 "nbformat": 4,
 "nbformat_minor": 2
}
