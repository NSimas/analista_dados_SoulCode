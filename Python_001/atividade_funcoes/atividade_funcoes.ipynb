{
 "cells": [
  {
   "cell_type": "markdown",
   "metadata": {},
   "source": [
    "#### 1\n",
    "Crie uma função chamada \"fahrenheitParaCelsius\" que receba uma temperatura em Fahrenheit e retorne a temperatura convertida para Celsius."
   ]
  },
  {
   "cell_type": "code",
   "execution_count": 12,
   "metadata": {},
   "outputs": [
    {
     "data": {
      "text/plain": [
       "29.444444444444443"
      ]
     },
     "execution_count": 12,
     "metadata": {},
     "output_type": "execute_result"
    }
   ],
   "source": [
    "def fahrenheitParaCelsius():\n",
    "    input_f = float(input(\"Digite a temperatura em Fahrenheit, somente números, use ponto, não vírgula: \"))\n",
    "    if input_f < -459.67:\n",
    "        print(\"Temperatura abaixo do zero absoluto\")\n",
    "    else:\n",
    "        f = input_f\n",
    "        f = (f - 32) * 5 / 9\n",
    "        return f\n",
    "fahrenheitParaCelsius()"
   ]
  },
  {
   "cell_type": "markdown",
   "metadata": {},
   "source": [
    "#### 2\n",
    "Crie função recebe a temperatura em Celsius, aplica a fórmula e retorna o valor convertido para Kelvin."
   ]
  },
  {
   "cell_type": "code",
   "execution_count": 15,
   "metadata": {},
   "outputs": [
    {
     "data": {
      "text/plain": [
       "13.149999999999977"
      ]
     },
     "execution_count": 15,
     "metadata": {},
     "output_type": "execute_result"
    }
   ],
   "source": [
    "def celsiusParaKelvin():\n",
    "    input_c = float(input(\"Digite a temperatura em Celsius, somente números, use ponto, não vírgula: \"))\n",
    "    if input_c < -273.15:\n",
    "        print(\"Temperatura abaixo do zero absoluto\")\n",
    "    else:\n",
    "        c = input_c\n",
    "        c = c + 273.15\n",
    "        return c\n",
    "celsiusParaKelvin()"
   ]
  },
  {
   "cell_type": "markdown",
   "metadata": {},
   "source": [
    "#### 3\n",
    "Crie uma função chamada \"quadrado\" que receba um número como argumento e retorne o quadrado desse número."
   ]
  },
  {
   "cell_type": "code",
   "execution_count": 17,
   "metadata": {},
   "outputs": [
    {
     "data": {
      "text/plain": [
       "11943936"
      ]
     },
     "execution_count": 17,
     "metadata": {},
     "output_type": "execute_result"
    }
   ],
   "source": [
    "def quadrado(numero):\n",
    "    return numero ** 2\n",
    "\n",
    "numero = int(input(\"Digite um número inteiro e descubra qual o quadrado dele: \"))\n",
    "quadrado(numero)"
   ]
  },
  {
   "cell_type": "markdown",
   "metadata": {},
   "source": [
    "#### 4\n",
    "Crie uma função chamada \"contarVogais\" que receba uma string como argumento e retorne o número de vogais na string."
   ]
  },
  {
   "cell_type": "code",
   "execution_count": 18,
   "metadata": {},
   "outputs": [
    {
     "data": {
      "text/plain": [
       "4"
      ]
     },
     "execution_count": 18,
     "metadata": {},
     "output_type": "execute_result"
    }
   ],
   "source": [
    "def contarVogais(texto):\n",
    "    vogais = 'aeiou'\n",
    "    return sum([1 for letra in texto if letra.lower() in vogais])\n",
    "\n",
    "texto = input(\"Digite um texto e descubra quantas vogais tem nele: \")\n",
    "contarVogais(texto)"
   ]
  },
  {
   "cell_type": "markdown",
   "metadata": {},
   "source": [
    "#### 5\n",
    "Crie uma função chamada \"filtrarPares\" que receba um array de números como argumento e retorne um novo array contendo apenas os números pares."
   ]
  },
  {
   "cell_type": "code",
   "execution_count": 33,
   "metadata": {},
   "outputs": [
    {
     "data": {
      "text/plain": [
       "[4, 6, 8, 0]"
      ]
     },
     "execution_count": 33,
     "metadata": {},
     "output_type": "execute_result"
    }
   ],
   "source": [
    "def filtrarPares(lista_1):\n",
    "    return [numero for numero in lista_1 if numero % 2 == 0]\n",
    "texto = input(\"Digite uma sequência de números inteiros separados por espaço e descubra quais são pares: \")\n",
    "lista_1 = [int(numero) for numero in texto.split()]\n",
    "filtrarPares(lista_1)"
   ]
  }
 ],
 "metadata": {
  "kernelspec": {
   "display_name": "Python 3",
   "language": "python",
   "name": "python3"
  },
  "language_info": {
   "codemirror_mode": {
    "name": "ipython",
    "version": 3
   },
   "file_extension": ".py",
   "mimetype": "text/x-python",
   "name": "python",
   "nbconvert_exporter": "python",
   "pygments_lexer": "ipython3",
   "version": "3.12.5"
  }
 },
 "nbformat": 4,
 "nbformat_minor": 2
}
