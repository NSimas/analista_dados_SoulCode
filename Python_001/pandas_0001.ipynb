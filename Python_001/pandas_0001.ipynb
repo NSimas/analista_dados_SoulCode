{
 "cells": [
  {
   "cell_type": "code",
   "execution_count": 1,
   "metadata": {},
   "outputs": [
    {
     "data": {
      "text/plain": [
       "0    2500\n",
       "1    3500\n",
       "2    3000\n",
       "3    4000\n",
       "4    2500\n",
       "5    4500\n",
       "dtype: int64"
      ]
     },
     "metadata": {},
     "output_type": "display_data"
    },
    {
     "data": {
      "text/plain": [
       "Janeiro      2500\n",
       "Fevereiro    3500\n",
       "Março        3000\n",
       "Abril        4000\n",
       "Maio         2500\n",
       "Junho        4500\n",
       "dtype: int64"
      ]
     },
     "metadata": {},
     "output_type": "display_data"
    }
   ],
   "source": [
    "import pandas as pd\n",
    "\n",
    "vendas = [2500, 3500, 3000, 4000, 2500, 4500]\n",
    "meses = ['Janeiro', 'Fevereiro', 'Março', 'Abril', 'Maio', 'Junho']\n",
    "\n",
    "serie_vendas = pd.Series(vendas)\n",
    "display(serie_vendas)\n",
    "\n",
    "serie_vendas_meses = pd.Series(vendas, index=meses)\n",
    "display(serie_vendas_meses)"
   ]
  },
  {
   "cell_type": "code",
   "execution_count": 2,
   "metadata": {},
   "outputs": [
    {
     "name": "stdout",
     "output_type": "stream",
     "text": [
      "O Total de vendas no Período foi R$: 20000\n"
     ]
    }
   ],
   "source": [
    "total_vendas = serie_vendas_meses.sum()\n",
    "print(f\"O Total de vendas no Período foi R$: {total_vendas}\")"
   ]
  },
  {
   "cell_type": "code",
   "execution_count": 3,
   "metadata": {},
   "outputs": [
    {
     "name": "stdout",
     "output_type": "stream",
     "text": [
      "Média de vendas é R$: 3333.33\n"
     ]
    }
   ],
   "source": [
    "media_vendas = serie_vendas_meses.mean()\n",
    "print(f\"Média de vendas é R$: {round(media_vendas, 2)}\")"
   ]
  },
  {
   "cell_type": "code",
   "execution_count": 4,
   "metadata": {},
   "outputs": [
    {
     "data": {
      "text/html": [
       "<div>\n",
       "<style scoped>\n",
       "    .dataframe tbody tr th:only-of-type {\n",
       "        vertical-align: middle;\n",
       "    }\n",
       "\n",
       "    .dataframe tbody tr th {\n",
       "        vertical-align: top;\n",
       "    }\n",
       "\n",
       "    .dataframe thead th {\n",
       "        text-align: right;\n",
       "    }\n",
       "</style>\n",
       "<table border=\"1\" class=\"dataframe\">\n",
       "  <thead>\n",
       "    <tr style=\"text-align: right;\">\n",
       "      <th></th>\n",
       "      <th>nome</th>\n",
       "      <th>idade</th>\n",
       "      <th>altura</th>\n",
       "      <th>peso</th>\n",
       "      <th>sexo</th>\n",
       "    </tr>\n",
       "  </thead>\n",
       "  <tbody>\n",
       "    <tr>\n",
       "      <th>0</th>\n",
       "      <td>Douglas</td>\n",
       "      <td>45</td>\n",
       "      <td>1.85</td>\n",
       "      <td>70</td>\n",
       "      <td>M</td>\n",
       "    </tr>\n",
       "    <tr>\n",
       "      <th>1</th>\n",
       "      <td>Daniela</td>\n",
       "      <td>7</td>\n",
       "      <td>1.23</td>\n",
       "      <td>22</td>\n",
       "      <td>F</td>\n",
       "    </tr>\n",
       "    <tr>\n",
       "      <th>2</th>\n",
       "      <td>Pedro</td>\n",
       "      <td>65</td>\n",
       "      <td>1.75</td>\n",
       "      <td>87</td>\n",
       "      <td>M</td>\n",
       "    </tr>\n",
       "    <tr>\n",
       "      <th>3</th>\n",
       "      <td>Maria</td>\n",
       "      <td>42</td>\n",
       "      <td>1.55</td>\n",
       "      <td>64</td>\n",
       "      <td>F</td>\n",
       "    </tr>\n",
       "    <tr>\n",
       "      <th>4</th>\n",
       "      <td>Eduardo</td>\n",
       "      <td>37</td>\n",
       "      <td>1.82</td>\n",
       "      <td>98</td>\n",
       "      <td>M</td>\n",
       "    </tr>\n",
       "    <tr>\n",
       "      <th>5</th>\n",
       "      <td>Ester</td>\n",
       "      <td>64</td>\n",
       "      <td>1.73</td>\n",
       "      <td>68</td>\n",
       "      <td>F</td>\n",
       "    </tr>\n",
       "  </tbody>\n",
       "</table>\n",
       "</div>"
      ],
      "text/plain": [
       "      nome  idade  altura  peso sexo\n",
       "0  Douglas     45    1.85    70    M\n",
       "1  Daniela      7    1.23    22    F\n",
       "2    Pedro     65    1.75    87    M\n",
       "3    Maria     42    1.55    64    F\n",
       "4  Eduardo     37    1.82    98    M\n",
       "5    Ester     64    1.73    68    F"
      ]
     },
     "metadata": {},
     "output_type": "display_data"
    },
    {
     "data": {
      "text/plain": [
       "(6, 5)"
      ]
     },
     "execution_count": 4,
     "metadata": {},
     "output_type": "execute_result"
    }
   ],
   "source": [
    "nome = ['Douglas', 'Daniela', 'Pedro', 'Maria', 'Eduardo', 'Ester']\n",
    "idade = [45, 7, 65, 42, 37, 64]\n",
    "altura = [1.85, 1.23, 1.75, 1.55, 1.82, 1.73]\n",
    "peso = [70, 22, 87, 64, 98, 68]\n",
    "sexo = ['M', 'F', 'M', 'F', 'M', 'F']\n",
    "\n",
    "# a função zip junta as listas em uma única lista\n",
    "df = pd.DataFrame(\n",
    "    zip(nome, idade, altura, peso, sexo),\n",
    "    columns=['nome', 'idade', 'altura', 'peso', 'sexo']\n",
    ")\n",
    "\n",
    "display(df)\n",
    "\n",
    "# shape mostra a quantidade de linhas e colunas do dataframe\n",
    "df.shape"
   ]
  },
  {
   "cell_type": "code",
   "execution_count": null,
   "metadata": {},
   "outputs": [],
   "source": [
    "# pega um item aleatório do dataframe\n",
    "df.sample() \n",
    "\n",
    "# pega a quantidade de itens especificada nos parênteses do dataframe, aleatoriamente\n",
    "df.sample(2)\n",
    "\n",
    "# mostra o tipo de cada coluna do dataframe\n",
    "df.dtypes\n",
    "\n",
    "# resumo de informações do dataframe\n",
    "df.info()\n",
    "\n",
    "\n",
    "df.index"
   ]
  },
  {
   "cell_type": "code",
   "execution_count": null,
   "metadata": {},
   "outputs": [],
   "source": []
  }
 ],
 "metadata": {
  "kernelspec": {
   "display_name": "Python 3",
   "language": "python",
   "name": "python3"
  },
  "language_info": {
   "codemirror_mode": {
    "name": "ipython",
    "version": 3
   },
   "file_extension": ".py",
   "mimetype": "text/x-python",
   "name": "python",
   "nbconvert_exporter": "python",
   "pygments_lexer": "ipython3",
   "version": "3.12.6"
  }
 },
 "nbformat": 4,
 "nbformat_minor": 2
}
