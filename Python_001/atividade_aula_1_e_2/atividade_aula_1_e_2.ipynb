{
 "cells": [
  {
   "cell_type": "markdown",
   "metadata": {},
   "source": [
    "### 1\n",
    "Crie variáveis chamdas nome, idade, email, e telefone. Imprima os dados como se fosse uma espécie de contato:\n",
    "Nome Completo: X\n",
    "idade: X anos\n",
    "email: X\n",
    "telefone: X"
   ]
  },
  {
   "cell_type": "code",
   "execution_count": 3,
   "metadata": {},
   "outputs": [
    {
     "name": "stdout",
     "output_type": "stream",
     "text": [
      " Nome: Fulano\n",
      " Idade: 23 anos \n",
      " e-mail: fulano@email.com \n",
      " Telefone: 11912341234\n"
     ]
    }
   ],
   "source": [
    "nome = 'Fulano'\n",
    "idade = 23\n",
    "email = 'fulano@email.com'\n",
    "telefone = 11912341234\n",
    "\n",
    "print(f\" Nome: {nome}\\n Idade: {idade} anos \\n e-mail: {email} \\n Telefone: {telefone}\")"
   ]
  },
  {
   "cell_type": "markdown",
   "metadata": {},
   "source": [
    "### 2\n",
    "Crie uma variável chamada x e atribua um valor. Crie outra variável chamada y um valor Calcule a divisão inteira de x por y e armazene o resultado na variável divisao_inteira. Imprima o valor de divisao_inteira."
   ]
  },
  {
   "cell_type": "code",
   "execution_count": 8,
   "metadata": {},
   "outputs": [
    {
     "name": "stdout",
     "output_type": "stream",
     "text": [
      "3.00\n"
     ]
    }
   ],
   "source": [
    "x = 12\n",
    "y = 4\n",
    "divisao_inteira = x / y\n",
    "print(f\"{divisao_inteira:.2f}\")"
   ]
  },
  {
   "cell_type": "markdown",
   "metadata": {},
   "source": [
    "### 3\n",
    "Crie uma variável chamada preco e outra quantidade, atribua valores. Calcule o custo total e armazene em uma variável chamada total. Imprima o total."
   ]
  },
  {
   "cell_type": "code",
   "execution_count": 9,
   "metadata": {},
   "outputs": [
    {
     "name": "stdout",
     "output_type": "stream",
     "text": [
      "83.86\n"
     ]
    }
   ],
   "source": [
    "preco = 5.99\n",
    "quantidade = 14\n",
    "total = preco * quantidade\n",
    "print(f\"{total:.2f}\")"
   ]
  },
  {
   "cell_type": "markdown",
   "metadata": {},
   "source": [
    "### 4\n",
    "Crie uma variável chamada a e atribua a ela um valor. Crie outra variável chamada b e atribua a ela um valor. Calcule a diferença entre a e b, depois multiplique o resultado por b e armazene o resultado final na variável resultado. Imprima o valor de resultado."
   ]
  },
  {
   "cell_type": "code",
   "execution_count": 10,
   "metadata": {},
   "outputs": [
    {
     "name": "stdout",
     "output_type": "stream",
     "text": [
      "1554.00\n"
     ]
    }
   ],
   "source": [
    "a = 5\n",
    "b = 42\n",
    "diferenca = b - a\n",
    "resultado = diferenca * b\n",
    "print(f\"{resultado:.2f}\")"
   ]
  },
  {
   "cell_type": "markdown",
   "metadata": {},
   "source": [
    "### 5\n",
    "Crie uma variável celsius e atribua um valor. Converta esse valor para Fahrenheit e armazene o resultado na variável fahrenheit. A fórmula de conversão é F = C * 9/5 + 32. Imprima o valor em Fahrenheit e o valor em Celsius."
   ]
  },
  {
   "cell_type": "code",
   "execution_count": 13,
   "metadata": {},
   "outputs": [
    {
     "name": "stdout",
     "output_type": "stream",
     "text": [
      " 17.3°C (Celsius) são 63.1°F (Fahrenheit)\n"
     ]
    }
   ],
   "source": [
    "celsius = 17.3\n",
    "fahrenheit = (celsius * 9/5) + 32\n",
    "print(f\" {celsius:.1f}°C (Celsius) são {fahrenheit:.1f}°F (Fahrenheit)\")"
   ]
  },
  {
   "cell_type": "markdown",
   "metadata": {},
   "source": [
    "### 6\n",
    "Crie uma variável chamada numero1 e outra chamada numero2, atribua valores. Calcule o resto da divisão de numero1 por numero2 e armazene o resultado na variável resto. Imprima o resto. Lembre do operador para isso."
   ]
  },
  {
   "cell_type": "code",
   "execution_count": null,
   "metadata": {},
   "outputs": [],
   "source": [
    "numero_1 = 15\n",
    "numero_2 = 2\n",
    "resto = numero_1 % numero_2\n",
    "print(f\"O resto da divisão de {numero_1} por {numero_2} é: {resto:.2f}\")"
   ]
  },
  {
   "cell_type": "markdown",
   "metadata": {},
   "source": [
    "### 7\n",
    "Crie uma variável chamada distancia_km e atribua a ela um valor. Converta essa distância para milhas, sabendo que 1 km é aproximadamente 0.621371 milhas, e armazene o resultado na variável distancia_milhas. Imprima a distância em milhas."
   ]
  },
  {
   "cell_type": "code",
   "execution_count": 17,
   "metadata": {},
   "outputs": [
    {
     "name": "stdout",
     "output_type": "stream",
     "text": [
      "175 km são aproximadamente 108.74 milhas.\n"
     ]
    }
   ],
   "source": [
    "distancia_km = 175\n",
    "distancia_milhas = distancia_km * 0.621371\n",
    "print(f\"{distancia_km} km são aproximadamente {distancia_milhas:.2f} milhas.\")"
   ]
  },
  {
   "cell_type": "markdown",
   "metadata": {},
   "source": [
    "### 8\n",
    "Crie uma variável chamada raio e atribua a ela o valor 7. Calcule a área de um círculo utilizando a fórmula A = pi * r elevado a 2 (use 3.14159 para pi) e armazene o resultado na variável area_circulo. Imprima a área."
   ]
  },
  {
   "cell_type": "code",
   "execution_count": 18,
   "metadata": {},
   "outputs": [
    {
     "name": "stdout",
     "output_type": "stream",
     "text": [
      "A área do círculo com raio 7 é: 153.94.\n"
     ]
    }
   ],
   "source": [
    "raio = 7\n",
    "area_circulo = 3.14159 * (raio ** 2)\n",
    "print(f\"A área do círculo com raio {raio} é: {area_circulo:.2f}.\")"
   ]
  }
 ],
 "metadata": {
  "kernelspec": {
   "display_name": "Python 3",
   "language": "python",
   "name": "python3"
  },
  "language_info": {
   "codemirror_mode": {
    "name": "ipython",
    "version": 3
   },
   "file_extension": ".py",
   "mimetype": "text/x-python",
   "name": "python",
   "nbconvert_exporter": "python",
   "pygments_lexer": "ipython3",
   "version": "3.12.4"
  }
 },
 "nbformat": 4,
 "nbformat_minor": 2
}
