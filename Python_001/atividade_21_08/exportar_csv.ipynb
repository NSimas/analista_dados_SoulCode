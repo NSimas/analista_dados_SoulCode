{
 "cells": [
  {
   "cell_type": "markdown",
   "metadata": {},
   "source": [
    "Crie listas com 5 valores cada, com os respectivos nomes:\n",
    "\n",
    "matricula\n",
    "\n",
    "nome\n",
    "\n",
    "nota1\n",
    "\n",
    "nota2\n",
    "\n",
    "nota3\n",
    "\n",
    "Os valores devem fazer sentido com cada lista.\n",
    "\n",
    "Crie um dicionário a partir dessas listas com chave para cada lista. \n",
    "\n",
    "Crie um dataframe com esse dicionário. \n",
    "\n",
    "Gere um arquivo csv chamado notas_alunos.csv, suba para o storage em dfs_bruto. \n",
    "\n",
    "No dataframe, adicione uma coluna que realize a media das 3 notas Gere um arquivo csv com o dataframe tratado chamado notas_alunos_finais.csv.\n",
    "\n",
    "Suba para o storagem em dfs_tratados."
   ]
  },
  {
   "cell_type": "code",
   "execution_count": 1,
   "metadata": {},
   "outputs": [],
   "source": [
    "import pandas as pd\n",
    "\n",
    "matriculas = [101010, 101011, 101012, 101013, 101014]\n",
    "nomes = [\"Ana\", \"Dino\", \"Tina\", \"Caetano\", \"Eduarda\"]\n",
    "nota1 = [8, 4.5, 7.6, 8.5, 9]\n",
    "nota2 = [7.5, 4.2, 7.8, 9, 9.2]\n",
    "nota3 = [8.2, 4, 7.5, 9, 8.6]\n",
    "\n",
    "dict_estudantes = {'matricula': matriculas, 'nome': nomes, 'nota1': nota1, 'nota2': nota2, 'nota3': nota3}\n",
    "\n",
    "dataframe_estudantes = pd.DataFrame(dict_estudantes)\n",
    "\n",
    "dataframe_estudantes.to_csv('notas_alunos.csv')\n",
    "\n",
    "dataframe_estudantes['media'] = (dataframe_estudantes['nota1'] + dataframe_estudantes['nota2'] + dataframe_estudantes['nota3']) / 3\n",
    "\n",
    "dataframe_estudantes.to_csv('notas_alunos_finais.csv')"
   ]
  }
 ],
 "metadata": {
  "kernelspec": {
   "display_name": "Python 3",
   "language": "python",
   "name": "python3"
  },
  "language_info": {
   "codemirror_mode": {
    "name": "ipython",
    "version": 3
   },
   "file_extension": ".py",
   "mimetype": "text/x-python",
   "name": "python",
   "nbconvert_exporter": "python",
   "pygments_lexer": "ipython3",
   "version": "3.12.3"
  }
 },
 "nbformat": 4,
 "nbformat_minor": 2
}
