{
 "cells": [
  {
   "cell_type": "markdown",
   "metadata": {},
   "source": [
    "Crie uma variável chamada idade e atribua um valor. Em uma variável resultado, crie uma expressão lógica que retorne V ou F, onde a idade esteja entre 0 e 12 (para criança) ou entre 13 e 19 (para adolescente). Imprima ‘É uma criança ou adolescente? {resultado}’.\n",
    "\n",
    "Solicite ao usuário que informe a temperatura em graus Celsius e a umidade em porcentagem. Em uma variável resultado, atribua a expressão lógica que retorne V ou F  onde a temperatura está entre 15 e 25 graus e a umidade entre 30% e 60%. Imprima, pelos dados está em condições confortáveis? {resultado}\n",
    "\n",
    "Peça ao usuário que informe sua idade e nível de escolaridade (fundamental, médio ou superior). Verifique onde a pessoa é considerada qualificada com base na idade (maior ou igual a 21 anos) e escolaridade (superior). Imprima apto para a vaga? {resultado}\n",
    "\n",
    "Solicite ao usuário que informe o valor de uma compra e o método de pagamento (dinheiro, cartão ou cheque). Determine se um desconto deve ser aplicado com base no valor da compra (acima de 100 reais) e método de pagamento (dinheiro). Atribua essa expressão lógica em uma variável e imprima, Será aplicado desconto? {resultado}\n",
    "\n",
    "Escreva um algoritmo que armazene o valor 10 em uma variável A e o valor 20 em uma variável B. A seguir (utilizando apenas atribuições entre variáveis) troque os seus conteúdos fazendo com que o valor que está em A passe para B e vice-versa. Ao final, escrever os valores que ficaram armazenados nas variáveis. \n",
    "\n",
    "Desenvolva um programa que leia um valor e exiba a mensagem “É MAIOR QUE 10!” se o valor lido for maior que 10. Caso contrário, o programa deve exibir a mensagem “NÃO É MAIOR QUE 10!”.\n",
    "\n",
    "Desenvolva um programa que leia um valor e determine se ele é positivo ou negativo, considerando o valor zero como positivo. O programa deve exibir “POSITIVO” se o valor for maior ou igual a zero e “NEGATIVO” se for menor que zero.\n",
    "\n",
    "Desenvolva um programa que leia dois valores diferentes e determine qual deles é o maior. O programa deve comparar os dois valores e exibir o maior deles.\n",
    "\n",
    "Desenvolva um programa que leia dois valores diferentes e os exiba em ordem crescente. O programa deve comparar os dois valores e imprimir primeiro o menor e depois o maior.\n",
    "\n",
    "A empresa XYZ S.A. decidiu reajustar os salários de seus colaboradores a partir do próximo mês. Foi determinado que todos os funcionários terão um aumento de 15% em relação ao seu salário atual. Crie um programa que peça ao usuário o valor do salário atual de um funcionário, calcule o novo salário com o aumento de 15% e exiba o valor atualizado de forma clara.\n",
    "\n",
    "Pedro adquiriu um saco de ração para gatos, cuja quantidade é medida em quilos. Ele tem dois gatos e fornece a mesma quantidade de ração para cada um diariamente, com a medição feita em gramas. Escreva um programa que receba o peso total do saco de ração e a quantidade de ração fornecida a cada gato diariamente. O programa deve calcular e exibir quanto de ração restará no saco após cinco dias de alimentação.\n",
    "\n",
    "Desenvolva um programa para calcular o volume de uma caixa retangular. O programa deve receber como entrada as dimensões da caixa: comprimento, largura e altura. Utilizando a fórmula VOLUME = COMPRIMENTO * LARGURA * ALTURA, o programa deve calcular e exibir o volume da caixa.\n",
    "\n",
    "Desenvolva um programa que leia três valores numéricos inteiros, denominados A, B e C. O programa deve calcular o quadrado da soma desses três valores e exibir o resultado final.\n",
    "\n",
    "Elaborar um programa que leia dois valores numéricos reais desconhecidos representados pelas variáveis A e B. Calcular e apresentar os resultados das quatro operações aritméticas básicas (soma, subtração, divisão e multiplicação).\n",
    "\n",
    "Desenvolva um programa que leia três notas de um aluno e calcule a média final ponderada dessas notas. Os pesos atribuídos às notas são 2, 3 e 5, respectivamente. Utilize a fórmula para o cálculo da média final ponderada.\n",
    "\n",
    "\n",
    "Ao final exiba suas três notas, a média calculada e uma mensagem \"APROVADO\" se a média for maior ou igual a 5 e \"REPROVADO\" se a média for menor que 5.\n",
    "\n",
    "Desenvolva um programa que solicite ao usuário o peso e a altura (em metros), e calcule o Índice de Massa Corporal (IMC) usando a fórmula peso / (altura * altura). Em seguida, crie uma expressão lógica para definir a variável `resultado` com base no IMC: \"Saudável\" se o IMC estiver entre 18.5 e 24.9, \"Abaixo do peso\" se estiver abaixo de 18.5, e \"Acima do peso\" se estiver acima de 24.9. Por fim, imprima a mensagem correspondente à condição do IMC.\n"
   ]
  },
  {
   "cell_type": "markdown",
   "metadata": {},
   "source": [
    "### 1\n",
    "Crie uma variável chamada idade e atribua um valor. Em uma variável resultado, crie uma expressão lógica que retorne V ou F, onde a idade esteja entre 0 e 12 (para criança) ou entre 13 e 19 (para adolescente). Imprima ‘É uma criança ou adolescente? {resultado}’."
   ]
  },
  {
   "cell_type": "code",
   "execution_count": 4,
   "metadata": {},
   "outputs": [
    {
     "name": "stdout",
     "output_type": "stream",
     "text": [
      "É uma criança ou adolescente? Falso\n"
     ]
    }
   ],
   "source": [
    "idade = 25\n",
    "\n",
    "if (idade >= 0 and idade <= 19):\n",
    "    resultado = \"Verdadeiro.\"\n",
    "else:\n",
    "    resultado = \"Falso.\"\n",
    "\n",
    "print(f\"É uma criança ou adolescente? {resultado}\")"
   ]
  },
  {
   "cell_type": "markdown",
   "metadata": {},
   "source": [
    "### 2\n",
    "Solicite ao usuário que informe a temperatura em graus Celsius e a umidade em porcentagem. Em uma variável resultado, atribua a expressão lógica que retorne V ou F  onde a temperatura está entre 15 e 25 graus e a umidade entre 30% e 60%. Imprima, pelos dados está em condições confortáveis? {resultado}"
   ]
  },
  {
   "cell_type": "code",
   "execution_count": 9,
   "metadata": {},
   "outputs": [
    {
     "name": "stdout",
     "output_type": "stream",
     "text": [
      "O clima está agradável? Falso.\n"
     ]
    }
   ],
   "source": [
    "temperatura = float(input(\"Digite a temperatura, use ponto, não vírgula: \"))\n",
    "umidade = int(input(\"Digite o percentual de umidade e número inteiro: \"))\n",
    "\n",
    "resultado = \"Verdadeiro.\" if (temperatura >= 15 and temperatura <= 25 and umidade >= 30 and umidade <= 60) else \"Falso.\"\n",
    "\n",
    "print(f\"O clima está agradável? {resultado}\")"
   ]
  },
  {
   "cell_type": "markdown",
   "metadata": {},
   "source": [
    "### 3\n",
    "Peça ao usuário que informe sua idade e nível de escolaridade (fundamental, médio ou superior). Verifique onde a pessoa é considerada qualificada com base na idade (maior ou igual a 21 anos) e escolaridade (superior). Imprima apto para a vaga? {resultado}"
   ]
  },
  {
   "cell_type": "code",
   "execution_count": 11,
   "metadata": {},
   "outputs": [
    {
     "name": "stdout",
     "output_type": "stream",
     "text": [
      "Apto para a vaga? Não.\n"
     ]
    }
   ],
   "source": [
    "idade = int(input(\"Digite sua idade: \"))\n",
    "escolaridade = int(input(\"Digite sua escolaridade, 1 - fundamental, 2 - médio, 3 - superior: \"))\n",
    "\n",
    "resultado = \"Sim.\" if (idade >= 21 and escolaridade == 3) else \"Não.\"\n",
    "\n",
    "print(f\"Apto para a vaga? {resultado}\")"
   ]
  },
  {
   "cell_type": "markdown",
   "metadata": {},
   "source": [
    "### 4\n",
    "Solicite ao usuário que informe o valor de uma compra e o método de pagamento (dinheiro, cartão ou cheque). Determine se um desconto deve ser aplicado com base no valor da compra (acima de 100 reais) e método de pagamento (dinheiro). Atribua essa expressão lógica em uma variável e imprima, Será aplicado desconto? {resultado}"
   ]
  },
  {
   "cell_type": "code",
   "execution_count": 12,
   "metadata": {},
   "outputs": [
    {
     "name": "stdout",
     "output_type": "stream",
     "text": [
      "O cliente tem direito a desconto? Não.\n"
     ]
    }
   ],
   "source": [
    "valor_compra = float(input(\"Digite o valor da compra: \"))\n",
    "mop = int(input(\"Digite o meio de pagamento, 1 - dinheiro, 2 - cartão, 3 - cheque: \"))\n",
    "\n",
    "resultado = \"Sim.\" if (valor_compra > 100 and mop == 1) else \"Não.\"\n",
    "\n",
    "print(f\"O cliente tem direito a desconto? {resultado}\")"
   ]
  },
  {
   "cell_type": "markdown",
   "metadata": {},
   "source": [
    "### 5\n",
    "Escreva um algoritmo que armazene o valor 10 em uma variável A e o valor 20 em uma variável B. A seguir (utilizando apenas atribuições entre variáveis) troque os seus conteúdos fazendo com que o valor que está em A passe para B e vice-versa. Ao final, escrever os valores que ficaram armazenados nas variáveis."
   ]
  },
  {
   "cell_type": "code",
   "execution_count": 13,
   "metadata": {},
   "outputs": [
    {
     "name": "stdout",
     "output_type": "stream",
     "text": [
      "A = 20, B = 10\n"
     ]
    }
   ],
   "source": [
    "A = 10\n",
    "B = 20\n",
    "\n",
    "C = A\n",
    "A = B\n",
    "B = C\n",
    "print(f\"A = {A}, B = {B}\")"
   ]
  },
  {
   "cell_type": "markdown",
   "metadata": {},
   "source": [
    "### 6\n",
    "Desenvolva um programa que leia um valor e exiba a mensagem “É MAIOR QUE 10!” se o valor lido for maior que 10. Caso contrário, o programa deve exibir a mensagem “NÃO É MAIOR QUE 10!”."
   ]
  },
  {
   "cell_type": "code",
   "execution_count": 14,
   "metadata": {},
   "outputs": [
    {
     "name": "stdout",
     "output_type": "stream",
     "text": [
      "É MAIOR QUE 10!\n"
     ]
    }
   ],
   "source": [
    "numero = float(input(\"Digite um número: \"))\n",
    "if numero > 10:\n",
    "    print(\"É MAIOR QUE 10!\")\n",
    "else:\n",
    "    print(\"NÃO É MAIOR QUE 10!\")"
   ]
  },
  {
   "cell_type": "markdown",
   "metadata": {},
   "source": [
    "### 7\n",
    "Desenvolva um programa que leia um valor e determine se ele é positivo ou negativo, considerando o valor zero como positivo. O programa deve exibir “POSITIVO” se o valor for maior ou igual a zero e “NEGATIVO” se for menor que zero."
   ]
  },
  {
   "cell_type": "code",
   "execution_count": 16,
   "metadata": {},
   "outputs": [
    {
     "name": "stdout",
     "output_type": "stream",
     "text": [
      "NEGATIVO\n"
     ]
    }
   ],
   "source": [
    "numero_1 = float(input(\"Digite um número: \"))\n",
    "if numero_1 >= 0:\n",
    "    print(\"POSITIVO\")\n",
    "else:\n",
    "    print(\"NEGATIVO\")"
   ]
  },
  {
   "cell_type": "markdown",
   "metadata": {},
   "source": [
    "### 8\n",
    "Desenvolva um programa que leia dois valores diferentes e determine qual deles é o maior. O programa deve comparar os dois valores e exibir o maior deles."
   ]
  },
  {
   "cell_type": "code",
   "execution_count": 20,
   "metadata": {},
   "outputs": [
    {
     "name": "stdout",
     "output_type": "stream",
     "text": [
      "O maior valor é 6.0\n"
     ]
    }
   ],
   "source": [
    "valor_1 = float(input(\"Digite o primeiro valor: \"))\n",
    "valor_2 = float(input(\"Digite o segundo valor: \"))\n",
    "\n",
    "if valor_1 > valor_2:\n",
    "    print(f\"O maior valor é {valor_1}\")\n",
    "elif valor_2 > valor_1:\n",
    "    print(f\"O maior valor é {valor_2}\")\n",
    "else:\n",
    "    print(\"Os valores são iguais.\")"
   ]
  },
  {
   "cell_type": "markdown",
   "metadata": {},
   "source": [
    "### 9\n",
    "Desenvolva um programa que leia dois valores diferentes e os exiba em ordem crescente. O programa deve comparar os dois valores e imprimir primeiro o menor e depois o maior."
   ]
  },
  {
   "cell_type": "code",
   "execution_count": 25,
   "metadata": {},
   "outputs": [
    {
     "name": "stdout",
     "output_type": "stream",
     "text": [
      "3.0 6.0\n"
     ]
    }
   ],
   "source": [
    "n_1 = float(input(\"Digite o primeiro número: \"))\n",
    "n_2 = float(input(\"Digite o segundo número: \"))\n",
    "\n",
    "if n_1 < n_2:\n",
    "    print(f\"{n_1} {n_2}\")\n",
    "elif n_2 < n_1:\n",
    "    print(f\"{n_2} {n_1}\")\n",
    "else:\n",
    "    print(\"Os números são iguais.\")"
   ]
  },
  {
   "cell_type": "markdown",
   "metadata": {},
   "source": [
    "### 10\n",
    "A empresa XYZ S.A. decidiu reajustar os salários de seus colaboradores a partir do próximo mês. Foi determinado que todos os funcionários terão um aumento de 15% em relação ao seu salário atual. Crie um programa que peça ao usuário o valor do salário atual de um funcionário, calcule o novo salário com o aumento de 15% e exiba o valor atualizado de forma clara."
   ]
  },
  {
   "cell_type": "code",
   "execution_count": 27,
   "metadata": {},
   "outputs": [
    {
     "name": "stdout",
     "output_type": "stream",
     "text": [
      "O salário é 100.00\n",
      "O reajuste foi de R$ 15.00\n",
      "O salário reajustado será de R$ 115.00\n"
     ]
    }
   ],
   "source": [
    "salario_atual = float(input(\"Digite o salário atual: \"))\n",
    "\n",
    "reajuste = 0.15 * salario_atual\n",
    "novo_salario = salario_atual + reajuste\n",
    "\n",
    "print(f\"O salário é {salario_atual:.2f}\\nO reajuste foi de R$ {reajuste:.2f}\\nO salário reajustado será de R$ {novo_salario:.2f}\")"
   ]
  },
  {
   "cell_type": "markdown",
   "metadata": {},
   "source": [
    "### 11\n",
    "Pedro adquiriu um saco de ração para gatos, cuja quantidade é medida em quilos. Ele tem dois gatos e fornece a mesma quantidade de ração para cada um diariamente, com a medição feita em gramas. Escreva um programa que receba o peso total do saco de ração e a quantidade de ração fornecida a cada gato diariamente. O programa deve calcular e exibir quanto de ração restará no saco após cinco dias de alimentação."
   ]
  },
  {
   "cell_type": "code",
   "execution_count": 2,
   "metadata": {},
   "outputs": [
    {
     "name": "stdout",
     "output_type": "stream",
     "text": [
      "O pacote de ração de 10.40kg após 5 dias com \n",
      "porções de 124.00g por gato por dia, para 2 \n",
      "gatos, após 5 dias restarão 9.16kg de ração.\n"
     ]
    }
   ],
   "source": [
    "peso_pacote = float(input(\"Digite o peso do pacote de ração em quilos (use ponto, não vírgula): \"))\n",
    "gramas_porcao = float(input(\"Digite a quantidade de ração em gramas por porção (use ponto, não vírgula): \"))\n",
    "\n",
    "gasto = ((gramas_porcao * 5)/1000)*2\n",
    "racao_restante = peso_pacote - gasto\n",
    "\n",
    "print(f\"O pacote de ração de {peso_pacote:.2f}kg após 5 dias com \\nporções de {gramas_porcao:.2f}g por gato por dia, para 2 \\ngatos, após 5 dias restarão {racao_restante:.2f}kg de ração.\")"
   ]
  },
  {
   "cell_type": "markdown",
   "metadata": {},
   "source": [
    "### 12\n",
    "Desenvolva um programa para calcular o volume de uma caixa retangular. O programa deve receber como entrada as dimensões da caixa: comprimento, largura e altura. Utilizando a fórmula VOLUME = COMPRIMENTO * LARGURA * ALTURA, o programa deve calcular e exibir o volume da caixa."
   ]
  },
  {
   "cell_type": "code",
   "execution_count": 3,
   "metadata": {},
   "outputs": [
    {
     "name": "stdout",
     "output_type": "stream",
     "text": [
      "O volume da caixa é 3600.00cm³\n"
     ]
    }
   ],
   "source": [
    "comprimento = float(input(\"Digite o comprimento da caixa em centímetros: \"))\n",
    "largura = float(input(\"Digite a largura da caixa em centímetros: \"))\n",
    "altura = float(input(\"Digite a altura da caixa em centímetros: \"))\n",
    "volume = comprimento * largura * altura\n",
    "print(f\"O volume da caixa é {volume:.2f}cm³\")"
   ]
  },
  {
   "cell_type": "markdown",
   "metadata": {},
   "source": [
    "### 13\n",
    "Desenvolva um programa que leia três valores numéricos inteiros, denominados A, B e C. O programa deve calcular o quadrado da soma desses três valores e exibir o resultado final.\n"
   ]
  },
  {
   "cell_type": "code",
   "execution_count": 5,
   "metadata": {},
   "outputs": [
    {
     "name": "stdout",
     "output_type": "stream",
     "text": [
      "O resultado da expressão (A + B + C)² é: 9\n"
     ]
    }
   ],
   "source": [
    "A = int(input(\"Digite o valor de A (deve ser um número inteiro): \"))\n",
    "B = int(input(\"Digite o valor de B (deve ser um número inteiro): \"))\n",
    "C = int(input(\"Digite o valor de C (deve ser um número inteiro): \"))\n",
    "\n",
    "resultado = (A + B + C)**2\n",
    "\n",
    "print(f\"O resultado da expressão (A + B + C)² é: {resultado}\")"
   ]
  },
  {
   "cell_type": "markdown",
   "metadata": {},
   "source": [
    "### 14\n",
    "Elaborar um programa que leia dois valores numéricos reais desconhecidos representados pelas variáveis A e B. Calcular e apresentar os resultados das quatro operações aritméticas básicas (soma, subtração, divisão e multiplicação)."
   ]
  },
  {
   "cell_type": "code",
   "execution_count": 6,
   "metadata": {},
   "outputs": [
    {
     "name": "stdout",
     "output_type": "stream",
     "text": [
      "A soma de A e B é: 4.00\n",
      "A subtração de A e B é: 0.00\n",
      "A divisão de A por B é: 1.00\n",
      "A multiplicação de A e B é: 4.00\n"
     ]
    }
   ],
   "source": [
    "A = float(input(\"Digite o valor de A (deve ser um número real): \"))\n",
    "B = float(input(\"Digite o valor de B (deve ser um número real): \"))\n",
    "\n",
    "soma = A + B\n",
    "subtracao = A - B\n",
    "multiplicacao = A * B\n",
    "divisao = A / B\n",
    "\n",
    "print(f\"A soma de A e B é: {soma:.2f}\\nA subtração de A e B é: {subtracao:.2f}\\nA divisão de A por B é: {divisao:.2f}\\nA multiplicação de A e B é: {multiplicacao:.2f}\")"
   ]
  },
  {
   "cell_type": "markdown",
   "metadata": {},
   "source": [
    "### 15\n",
    "Desenvolva um programa que leia três notas de um aluno e calcule a média final ponderada dessas notas. Os pesos atribuídos às notas são 2, 3 e 5, respectivamente. Utilize a fórmula para o cálculo da média final ponderada.\n",
    "\n",
    "mediafinal = (n1x2+n2x3+n3x5)/10\n",
    "\n",
    "Ao final exiba suas três notas, a média calculada e uma mensagem \"APROVADO\" se a média for maior ou igual a 5 e \"REPROVADO\" se a média for menor que 5"
   ]
  },
  {
   "cell_type": "code",
   "execution_count": 8,
   "metadata": {},
   "outputs": [
    {
     "name": "stdout",
     "output_type": "stream",
     "text": [
      "As notas inseridas foram 6.8, 7.5 e 8.0\n",
      "A média final ponderada é: 7.61\n",
      "APROVADO\n"
     ]
    }
   ],
   "source": [
    "n_1 = float(input(\"Digite a primeira nota (use ponto, não vírgula): \"))\n",
    "n_2 = float(input(\"Digite a segunda nota (use ponto, não vírgula): \"))\n",
    "n_3 = float(input(\"Digite a terceira nota (use ponto, não vírgula): \"))\n",
    "\n",
    "mf_ponderada = (n_1*2 + n_2*3 + n_3*5)/10\n",
    "\n",
    "resultado = \"APROVADO\" if (mf_ponderada >= 5) else \"REPROVADO\"\n",
    "\n",
    "print(f\"As notas inseridas foram {n_1}, {n_2} e {n_3}\\nA média final ponderada é: {mf_ponderada:.2f}\\n{resultado}\")"
   ]
  },
  {
   "cell_type": "markdown",
   "metadata": {},
   "source": [
    "### 16\n",
    "Desenvolva um programa que solicite ao usuário o peso e a altura (em metros), e calcule o Índice de Massa Corporal (IMC) usando a fórmula peso / (altura * altura). Em seguida, crie uma expressão lógica para definir a variável \" resultado\" com base no IMC: \"Saudável\" se o IMC estiver entre 18.5 e 24.9, \"Abaixo do peso\" se estiver abaixo de 18.5, e \"Acima do peso\" se estiver acima de 24.9. Por fim, imprima a mensagem correspondente à condição do IMC."
   ]
  },
  {
   "cell_type": "code",
   "execution_count": 10,
   "metadata": {},
   "outputs": [
    {
     "name": "stdout",
     "output_type": "stream",
     "text": [
      "O IMC é 28.4, está acima do peso.\n"
     ]
    }
   ],
   "source": [
    "peso = float(input(\"Digite o peso em quilos (use ponto, não vírgula): \"))\n",
    "altura = float(input(\"Digite a altura em metros (use ponto, não vírgula): \"))\n",
    "\n",
    "imc = peso / (altura**2)\n",
    "\n",
    "if imc < 18.5:\n",
    "    print(f\"O IMC é {imc:.1f}, está abaixo do peso.\")\n",
    "elif imc >= 18.5 and imc < 25:\n",
    "    print(f\"O IMC é {imc:.1f}, está saudável.\")\n",
    "else:\n",
    "    print(f\"O IMC é {imc:.1f}, está acima do peso.\")"
   ]
  }
 ],
 "metadata": {
  "kernelspec": {
   "display_name": "Python 3",
   "language": "python",
   "name": "python3"
  },
  "language_info": {
   "codemirror_mode": {
    "name": "ipython",
    "version": 3
   },
   "file_extension": ".py",
   "mimetype": "text/x-python",
   "name": "python",
   "nbconvert_exporter": "python",
   "pygments_lexer": "ipython3",
   "version": "3.12.5"
  }
 },
 "nbformat": 4,
 "nbformat_minor": 2
}
