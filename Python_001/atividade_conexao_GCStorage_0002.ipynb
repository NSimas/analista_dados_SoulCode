{
 "cells": [
  {
   "cell_type": "code",
   "execution_count": null,
   "metadata": {},
   "outputs": [],
   "source": [
    "!pip install mysql-connector-python"
   ]
  },
  {
   "cell_type": "code",
   "execution_count": null,
   "metadata": {},
   "outputs": [],
   "source": [
    "!pip install pandas"
   ]
  },
  {
   "cell_type": "code",
   "execution_count": null,
   "metadata": {},
   "outputs": [],
   "source": [
    "# importar o mysql.connector e pandas\n",
    "import mysql.connector as mc\n",
    "import pandas as pd\n",
    "\n",
    "# variáveis de conexão\n",
    "host = 'IP_publico_da_maquina_virtual'  # endereço de servidor MySQL\n",
    "user = 'root_ou_nome_do_usuario'       # usuário do MySQL\n",
    "password = 'se_tiver_senha_ou_deixa_vazio'           # senha do MySQL (deve ser definida para a conexão)\n",
    "database = 'nome_do_database'        # Nome do banco de dados a ser utilizado"
   ]
  },
  {
   "cell_type": "code",
   "execution_count": null,
   "metadata": {},
   "outputs": [],
   "source": [
    "# como descobrir o ip do nosso colab.\n",
    "# toda vez que você precisar conectar ao banco , tem que pegar o ip do colab adicionar a rede\n",
    "!curl ipecho.net/plain"
   ]
  },
  {
   "cell_type": "code",
   "execution_count": null,
   "metadata": {},
   "outputs": [],
   "source": [
    "# autenticar no google cloud\n",
    "%pip install google-colab\n",
    "\n",
    "from google.colab import auth\n",
    "auth.authenticate_user()"
   ]
  },
  {
   "cell_type": "code",
   "execution_count": null,
   "metadata": {},
   "outputs": [],
   "source": [
    "!pip install google-cloud-storage pandas\n",
    "\n",
    "from google.colab import auth\n",
    "auth.authenticate_user()\n",
    "\n",
    "from google.cloud import storage\n",
    "import pandas as pd\n",
    "from io import StringIO\n",
    "\n",
    "# Configurar o projeto\n",
    "project_id = 'proven-wavelet-433100-f1'\n",
    "!gcloud config set project {project_id}\n",
    "\n",
    "# Criar um cliente para interagir com o Google Cloud Storage\n",
    "client = storage.Client()\n",
    "bucket_name = 'meu-bucket-exercicio-blah-blah-blah'\n",
    "bucket = client.bucket(bucket_name)\n",
    "\n",
    "# Definir o caminho do arquivo no bucket\n",
    "blob = bucket.blob('dfs_brutos/alunos.csv')\n",
    "\n",
    "# Baixar o conteúdo do arquivo como string\n",
    "content = blob.download_as_text()\n",
    "\n",
    "# Ler o conteúdo como um DataFrame do pandas usando io.StringIO\n",
    "df = pd.read_csv(StringIO(content))\n",
    "\n",
    "# Adicionar a coluna 'media' com a média das colunas 'nota_1', 'nota_2' e 'nota_3'\n",
    "df['media'] = df[['nota_1', 'nota_2', 'nota_3']].mean(axis=1)\n",
    "\n",
    "# Converter o DataFrame em uma string .CSV sem indexação\n",
    "csv_data = df.to_csv(index=False)\n",
    "\n",
    "# Definir o caminho do arquivo atualizado no bucket\n",
    "blob = bucket.blob('dfs_brutos/alunos.csv')\n",
    "\n",
    "# Fazer o upload do CSV atualizado para o Google Cloud Storage\n",
    "blob.upload_from_string(csv_data, content_type='text/csv')\n",
    "\n",
    "# mensagenzinha confimando o upload, ela fica na última linha do código de retorno, em caso de sucesso.\n",
    "print(\"Arquivo atualizado enviado para o Google Cloud Storage com sucesso!\")\n"
   ]
  }
 ],
 "metadata": {
  "language_info": {
   "name": "python"
  }
 },
 "nbformat": 4,
 "nbformat_minor": 2
}
