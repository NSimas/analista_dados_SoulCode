{
 "cells": [
  {
   "cell_type": "markdown",
   "metadata": {},
   "source": [
    "12/08/2024"
   ]
  },
  {
   "cell_type": "markdown",
   "metadata": {},
   "source": [
    "### Estruturas de condição\n",
    "Criar um programa que determine a taxa de juros de um empréstimo com base em dois fatores: \n",
    "o valor do empréstimo e o histórico de crédito (Bom, Ruim). A taxa é determinada da seguinte forma:\n",
    "\n",
    "\t•\tSe o valor do empréstimo for superior a R$ 20.000:\n",
    "    •   Se o histórico de crédito for “Bom”, a taxa de juros é 5%.\n",
    "    •\tCaso contrário, a taxa de juros é 10%.\n",
    "\t•\tSe o valor do empréstimo for R$ 20.000 ou menos:\n",
    "    •\tE se o histórico de crédito for “Bom”, a taxa de juros é 7%.\n",
    "    •\tCaso contrário, a taxa de juros é 12%."
   ]
  },
  {
   "cell_type": "code",
   "execution_count": null,
   "metadata": {},
   "outputs": [],
   "source": [
    "emprestimo = float(input(\"Digite o valor do empréstimo: \"))\n",
    "credito = input(\"Digite o histórico de crédito (1 - Bom, Outra tecla - Ruim): \")\n",
    "if emprestimo > 20000:\n",
    "    if credito == \"1\":\n",
    "        taxa = 0.05\n",
    "    else:\n",
    "        taxa = 0.10\n",
    "else:\n",
    "    if credito == \"1\":\n",
    "        taxa = 0.07\n",
    "    else:\n",
    "        taxa = 0.12\n",
    "print(f\"A taxa de juros para este cliente é de {taxa * 100}%.\")"
   ]
  },
  {
   "cell_type": "markdown",
   "metadata": {},
   "source": [
    "criar um programa que classifique a temperatura de uma cidade com base em um valor fornecido. \n",
    "A classificação é determinada da seguinte forma:\n",
    "\n",
    "\t•\tSe a temperatura for superior a 30°C:\n",
    "    •\tSe for maior que 40°C, classifique como “Extremamente Quente”.\n",
    "    •\tCaso contrário, classifique como “Quente”.\n",
    "\n",
    "    •\tSe a temperatura estiver entre 15°C e 30°C:\n",
    "    •\tSe estiver abaixo de 20°C, classifique como “Agradável”.\n",
    "    •\tCaso contrário, classifique como “Morna”.\n",
    "    \n",
    "\t•\tSe a temperatura for inferior a 15°C:\n",
    "    •\tSe for maior que 0°C, classifique como “Fria”.\n",
    "    •\tSe for 0°C ou menos, classifique como “Congelante”."
   ]
  },
  {
   "cell_type": "code",
   "execution_count": 8,
   "metadata": {},
   "outputs": [
    {
     "name": "stdout",
     "output_type": "stream",
     "text": [
      "Congelante\n"
     ]
    }
   ],
   "source": [
    "temperatura = float(input(\"Digite a temperatura (use ponto, não vírgula): \"))\n",
    "if temperatura > 30:\n",
    "    if temperatura > 40:\n",
    "        print(\"Extremamente Quente\")\n",
    "    else:\n",
    "        print(\"Quente\")\n",
    "elif temperatura >= 15 and temperatura <= 30:\n",
    "    if temperatura < 20:\n",
    "        print(\"Agradável\")\n",
    "    else:\n",
    "        print(\"Morna\")\n",
    "else:\n",
    "    if temperatura > 0:\n",
    "        print(\"Fria\")\n",
    "    else:\n",
    "        print(\"Congelante\")"
   ]
  },
  {
   "cell_type": "markdown",
   "metadata": {},
   "source": [
    "### Funções com string\n",
    "uma string\n",
    "\n",
    "palavras = \"Hello\"\n",
    "\n",
    "posições de índice positivo:\n",
    "\n",
    "   0 1 2 3 4\n",
    "\n",
    "posições de índice negativo:\n",
    "\n",
    "    -1 -2 -3 -4 -5\n",
    "\n",
    "Substring - é um trecho de uma string."
   ]
  },
  {
   "cell_type": "code",
   "execution_count": 9,
   "metadata": {},
   "outputs": [
    {
     "name": "stdout",
     "output_type": "stream",
     "text": [
      "H\n",
      "e\n",
      "l\n",
      "l\n",
      "o\n",
      "Hello\n",
      "o\n",
      "l\n",
      "l\n",
      "e\n",
      "H\n"
     ]
    }
   ],
   "source": [
    "txt = \"Hello\"\n",
    "print(txt[0])\n",
    "print(txt[1])\n",
    "print(txt[2])\n",
    "print(txt[3])\n",
    "print(txt[4])\n",
    "print(txt)\n",
    "print(txt[-1])\n",
    "print(txt[-2])\n",
    "print(txt[-3])\n",
    "print(txt[-4])\n",
    "print(txt[-5])"
   ]
  },
  {
   "cell_type": "markdown",
   "metadata": {},
   "source": [
    "Slicing - SLICE\n",
    "\n",
    "[ inicio : fim ]\n",
    "\n",
    "Não imprime a última posição, segue exemplo:"
   ]
  },
  {
   "cell_type": "code",
   "execution_count": 10,
   "metadata": {},
   "outputs": [
    {
     "name": "stdout",
     "output_type": "stream",
     "text": [
      "He\n",
      "llo\n",
      "Hell\n",
      "el\n"
     ]
    }
   ],
   "source": [
    "txt = \"Hello\"\n",
    "print(txt[0:2])\n",
    "print(txt[2:5])\n",
    "print(txt[0:4])\n",
    "print(txt[1:3])"
   ]
  },
  {
   "cell_type": "markdown",
   "metadata": {},
   "source": [
    "find pega a posição da primeira ocorrência."
   ]
  },
  {
   "cell_type": "markdown",
   "metadata": {},
   "source": [
    "# 13/08/2024"
   ]
  },
  {
   "cell_type": "markdown",
   "metadata": {},
   "source": [
    "Crie uma lista com 5 estudantes\n",
    "Verifique se a lista contém mais de 10 estudantes\n",
    "Se houver mais de 10 estudantes, exiba \"A aula irá prosseguir\"\n",
    "Caso contrário, \"Não haverá aula devido a quantidade baixa de estudantes\""
   ]
  },
  {
   "cell_type": "code",
   "execution_count": 1,
   "metadata": {},
   "outputs": [
    {
     "name": "stdout",
     "output_type": "stream",
     "text": [
      "Não haverá aula devido a quantidade baixa de estudantes\n"
     ]
    }
   ],
   "source": [
    "estudantes = [\"Mary\", \"João\", \"Maria\", \"José\", \"Ana\"]\n",
    "if len(estudantes) > 10:\n",
    "    print(\"A aula irá prosseguir\")\n",
    "else:\n",
    "    print(\"Não haverá aula devido a quantidade baixa de estudantes\")"
   ]
  },
  {
   "cell_type": "markdown",
   "metadata": {},
   "source": [
    "split(',') \n",
    "Separa tudo usando a vírgula como separador.\n",
    "\n",
    "na string"
   ]
  },
  {
   "cell_type": "code",
   "execution_count": null,
   "metadata": {},
   "outputs": [],
   "source": [
    "produtos = []\n",
    "print('Carrinho:', len(produtos))\n",
    "\n",
    "produtos.append(\"Televisão\")\n",
    "produtos.append(\"Celular\")\n",
    "produtos.append(\"Notebook\")\n",
    "print('Carrinho:',len(produtos),produtos)"
   ]
  },
  {
   "cell_type": "markdown",
   "metadata": {},
   "source": [
    "O método len() retorna o tamanho da lista.\n",
    "\n",
    ".append\n",
    "Adiciona item\n",
    "\n",
    "insert( posição, elemento)"
   ]
  },
  {
   "cell_type": "code",
   "execution_count": null,
   "metadata": {},
   "outputs": [],
   "source": [
    "produtos = [\"Televisão\", \"PC\", \"PS 5\"]\n",
    "print(produtos)\n",
    "\n",
    "produtos.insert(1, \"DVD\")\n",
    "print(produtos)"
   ]
  },
  {
   "cell_type": "code",
   "execution_count": null,
   "metadata": {},
   "outputs": [],
   "source": [
    "'''\n",
    "def formata_telefone(telefone):\n",
    "\n",
    "  if \"-\" in telefone:\n",
    "    telefone = telefone.replace(\"-\", \"\")\n",
    "  \n",
    "  if \" \" in telefone:\n",
    "    telefone = telefone.replace(\" \", \"\")\n",
    "\n",
    "  if \"(\" in telefone:\n",
    "    telefone = telefone.replace(\"(\", \"\")\n",
    "\n",
    "  if \")\" in telefone:\n",
    "    telefone = telefone.replace(\")\", \"\")\n",
    "\n",
    "  if \".\" in telefone:\n",
    "    telefone = telefone.replace(\".\", \"\")\n",
    "\n",
    "  if telefone.isnumeric():\n",
    "    if len(telefone) == 11 and telefone.isnumeric():\n",
    "        telefone = \"(\" + telefone[:2] + \") \" + telefone[2:3] + \" \" + telefone[3:7] + \"-\" + telefone[7:]\n",
    "        print(telefone)\n",
    "        \n",
    "  else:\n",
    "    print(\"Número de telefone inválido.\")\n",
    "\n",
    "telefone = input(\"Digite o número de telefone com código ded área, DDD: \")\n",
    "formata_telefone(telefone)\n",
    "\n",
    "'''\n",
    "\n",
    "'''\n",
    "Valida e corrige número de telefone. Faça um programa que leia um número de telefone,\n",
    "e corrija o número no caso deste conter somente 7 dígitos, acrescentando o '3' na frente.\n",
    "O usuário pode informar o número com ou sem o traço separador.\n",
    "\n",
    "Valida e corrige número de telefone\n",
    "Telefone: 461-0133\n",
    "Telefone possui 7 dígitos. Vou acrescentar o digito três na frente.\n",
    "Telefone corrigido sem formatação: 34610133\n",
    "Telefone corrigido com formatação: 3461-0133\n",
    "'''\n",
    "\n",
    "'''\n",
    "        if len(telefone) == 9:\n",
    "            print(f\"Telefone sem formatação: {telefone}\")\n",
    "            telefone = telefone[:1] + \" \" + telefone[1:5] + \"-\" + telefone[5:]\n",
    "            print(f\"Telefone corrigido com formatação: {telefone}\")\n",
    "            return True\n",
    "        elif len(telefone) == 8:\n",
    "            telefone = \"9\" + telefone\n",
    "            print(f\"Telefone possui 8 dígitos. Vou acrescentar o digito 9 na frente.\")\n",
    "            print(f\"Telefone corrigido sem formatação: {telefone}\")\n",
    "            telefone = telefone[:1] + \" \" + telefone[1:5] + \"-\" + telefone[5:]\n",
    "            print(f\"Telefone corrigido com formatação: {telefone}\")\n",
    "            return True\n",
    "'''"
   ]
  },
  {
   "cell_type": "code",
   "execution_count": 1,
   "metadata": {},
   "outputs": [
    {
     "name": "stdout",
     "output_type": "stream",
     "text": [
      "Parabens, você acertou!!! O numero secreto era 2\n",
      "Acertou em 7 tentativas\n"
     ]
    }
   ],
   "source": [
    "# Descobrir o numero e mostre na tela quantas tentativas tivemos\n",
    "# numero secreto = aleatório (1 a 10)\n",
    "# tentativas\n",
    "# palpite\n",
    "import random # biblioteca que gera valores aleatório\n",
    "\n",
    "# random.randint(inicio, fim) # gerar um numero aleatório\n",
    "# entre inicio e fim\n",
    "numero_secreto = random.randint(1, 10) # gerar um numero aleatório entre 1 a 10\n",
    "tentativas = 0\n",
    "palpite = 0\n",
    "\n",
    "while palpite != numero_secreto:\n",
    "  palpite = int(input(\"Adivinhe o valor entre 1 a 10: \"))\n",
    "  tentativas += 1\n",
    "\n",
    "print(f\"Parabens, você acertou!!! O numero secreto era {numero_secreto}\")\n",
    "print(f\"Acertou em {tentativas} tentativas\")\n",
    "\n",
    "#  break, ele para a execucao"
   ]
  },
  {
   "cell_type": "code",
   "execution_count": 2,
   "metadata": {},
   "outputs": [
    {
     "name": "stdout",
     "output_type": "stream",
     "text": [
      "Agenda\n",
      "Filipe => 8899\n",
      "Stefanie => 8888\n",
      "Bianca => 8877\n"
     ]
    }
   ],
   "source": [
    "dic_agenda = {\n",
    "    \"Filipe\": \"8899\",\n",
    "    \"Stefanie\" : \"8888\",\n",
    "    \"Bianca\" : \"8877\"\n",
    "}\n",
    "print(f\"Agenda\")\n",
    "for chave, valor in dic_agenda.items():\n",
    "  print(f\"{chave} => {valor}\")"
   ]
  }
 ],
 "metadata": {
  "kernelspec": {
   "display_name": "Python 3",
   "language": "python",
   "name": "python3"
  },
  "language_info": {
   "codemirror_mode": {
    "name": "ipython",
    "version": 3
   },
   "file_extension": ".py",
   "mimetype": "text/x-python",
   "name": "python",
   "nbconvert_exporter": "python",
   "pygments_lexer": "ipython3",
   "version": "3.12.5"
  }
 },
 "nbformat": 4,
 "nbformat_minor": 2
}
