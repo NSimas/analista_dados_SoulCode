{
 "cells": [
  {
   "cell_type": "markdown",
   "metadata": {},
   "source": [
    "#### 1\n",
    "Dada a string \"  Python é incrível!  \", use métodos de string para remover os espaços em branco no início e no final. Qual será o resultado após a remoção dos espaços?"
   ]
  },
  {
   "cell_type": "code",
   "execution_count": 3,
   "metadata": {},
   "outputs": [
    {
     "name": "stdout",
     "output_type": "stream",
     "text": [
      "Python é incrível!\n"
     ]
    }
   ],
   "source": [
    "# (strip) elimina caracteres indesejados de uma \n",
    "# string, por padrão remove espaços do início e \n",
    "# do final da string\n",
    "\n",
    "texto = \" Python é incrível! \"\n",
    "texto = texto.strip()\n",
    "print(texto)"
   ]
  },
  {
   "cell_type": "markdown",
   "metadata": {},
   "source": [
    "#### 2\n",
    "Você tem a string \"programação em python\" e deseja capitalizar apenas a primeira letra de cada palavra. Utilize o método de string apropriado e forneça o resultado."
   ]
  },
  {
   "cell_type": "code",
   "execution_count": null,
   "metadata": {},
   "outputs": [],
   "source": [
    "texto = \"programação em python\"\n"
   ]
  }
 ],
 "metadata": {
  "kernelspec": {
   "display_name": "Python 3",
   "language": "python",
   "name": "python3"
  },
  "language_info": {
   "codemirror_mode": {
    "name": "ipython",
    "version": 3
   },
   "file_extension": ".py",
   "mimetype": "text/x-python",
   "name": "python",
   "nbconvert_exporter": "python",
   "pygments_lexer": "ipython3",
   "version": "3.12.5"
  }
 },
 "nbformat": 4,
 "nbformat_minor": 2
}
