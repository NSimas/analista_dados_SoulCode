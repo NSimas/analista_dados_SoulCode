{
 "cells": [
  {
   "cell_type": "markdown",
   "metadata": {},
   "source": [
    "#### 1\n",
    "Dada a string \"  Python é incrível!  \", use métodos de string para remover os espaços em branco no início e no final. Qual será o resultado após a remoção dos espaços?"
   ]
  },
  {
   "cell_type": "code",
   "execution_count": 3,
   "metadata": {},
   "outputs": [
    {
     "name": "stdout",
     "output_type": "stream",
     "text": [
      "Python é incrível!\n"
     ]
    }
   ],
   "source": [
    "# (strip) elimina caracteres de uma string, \n",
    "# sem parâmetros remove espaços do início e \n",
    "# do final da string\n",
    "\n",
    "texto = \" Python é incrível! \"\n",
    "texto = texto.strip()\n",
    "print(texto)"
   ]
  },
  {
   "cell_type": "markdown",
   "metadata": {},
   "source": [
    "#### 2\n",
    "Você tem a string \"programação em python\" e deseja capitalizar apenas a primeira letra de cada palavra. Utilize o método de string apropriado e forneça o resultado."
   ]
  },
  {
   "cell_type": "code",
   "execution_count": 1,
   "metadata": {},
   "outputs": [
    {
     "name": "stdout",
     "output_type": "stream",
     "text": [
      "programação em python\n"
     ]
    }
   ],
   "source": [
    "# title() converte a primeira letra de \n",
    "# cada palavra para maiúscula\n",
    "\n",
    "texto = \"programação em python\"\n",
    "texto.title()\n",
    "print(texto)"
   ]
  },
  {
   "cell_type": "markdown",
   "metadata": {},
   "source": [
    "#### 3\n",
    "A string \"2024-08-12\" representa uma data no formato ISO. Use métodos de string para formatar esta data no formato \"12/08/2024\". Qual seria a string resultante?"
   ]
  },
  {
   "cell_type": "code",
   "execution_count": 7,
   "metadata": {},
   "outputs": [
    {
     "name": "stdout",
     "output_type": "stream",
     "text": [
      "12/08/2024\n"
     ]
    }
   ],
   "source": [
    "data = \"2024-08-12\"\n",
    "data = data.split(\"-\")\n",
    "data_organizada = data[2] + \"/\" + data[1] + \"/\" + data[0]\n",
    "print(data_organizada)"
   ]
  },
  {
   "cell_type": "markdown",
   "metadata": {},
   "source": [
    "#### 4\n",
    "Dada a string \"atividade-supimpa-de-strings-no-python\", utilize o método de string para substituir todas as ocorrências da letra '-' por '_'. Qual será a nova string?"
   ]
  },
  {
   "cell_type": "code",
   "execution_count": 8,
   "metadata": {},
   "outputs": [
    {
     "name": "stdout",
     "output_type": "stream",
     "text": [
      "atividade_supimpa_de_strings_no_python\n"
     ]
    }
   ],
   "source": [
    "texto = \"atividade-supimpa-de-strings-no-python\"\n",
    "texto = texto.replace(\"-\", \"_\")\n",
    "print(texto)"
   ]
  },
  {
   "cell_type": "markdown",
   "metadata": {},
   "source": [
    "###### 4 - DESAFIO OPCIONAL\n",
    "Leia uma entrada que seja um telefone que tenha  11 caracteres, se o tamanho da string for diferente de 11, emita uma mensagem avisando: Quantidade de caracteres inválido. Caso contrário, formate o telefone para ser exibido assim: (88) 9 9999-9999"
   ]
  },
  {
   "cell_type": "code",
   "execution_count": 13,
   "metadata": {},
   "outputs": [
    {
     "name": "stdout",
     "output_type": "stream",
     "text": [
      "(11) 9 1234-1234\n"
     ]
    }
   ],
   "source": [
    "while True:\n",
    "    telefone = input(\"Digite o telefone só com números, 11 dígitos: \")\n",
    "    if len(telefone) == 11 and telefone.isnumeric():\n",
    "        telefone = \"(\" + telefone[:2] + \") \" + telefone[2:3] + \" \" + telefone[3:7] + \"-\" + telefone[7:]\n",
    "        print(telefone)\n",
    "        break\n",
    "    else:\n",
    "        print(\"Número inválido, digite somente números e 11 dígitos\")"
   ]
  },
  {
   "cell_type": "markdown",
   "metadata": {},
   "source": [
    "#### 5\n",
    "Crie uma lista com cinco elementos de sua escolha. Em seguida, adicione um novo elemento no final da lista e imprima a lista atualizada. Depois, remova o primeiro elemento e imprima a lista resultante."
   ]
  },
  {
   "cell_type": "code",
   "execution_count": 15,
   "metadata": {},
   "outputs": [
    {
     "name": "stdout",
     "output_type": "stream",
     "text": [
      "[1, 2, 3, 4, 5, 6]\n",
      "[1, 2, 3, 4, 5]\n"
     ]
    }
   ],
   "source": [
    "lista_1 = [1, 2, 3, 4, 5]\n",
    "lista_1.append(6)\n",
    "print(lista_1)\n",
    "lista_1.pop()\n",
    "print(lista_1)"
   ]
  },
  {
   "cell_type": "markdown",
   "metadata": {},
   "source": [
    "#### 6\n",
    "Dado o dicionário estudante = {'nome': 'Ana', 'idade': 20, 'curso': 'Engenharia'}, imprima o valor associado à chave 'idade'. Atualize o valor da chave 'idade' para 21 e imprima o dicionário atualizado."
   ]
  },
  {
   "cell_type": "code",
   "execution_count": 17,
   "metadata": {},
   "outputs": [
    {
     "name": "stdout",
     "output_type": "stream",
     "text": [
      "Ana\n",
      "{'nome': 'Ana', 'idade': 21, 'curso': 'Engenharia'}\n"
     ]
    }
   ],
   "source": [
    "estudante = {'nome': 'Ana', 'idade': 20, 'curso': 'Engenharia'}\n",
    "print(estudante['nome'])\n",
    "estudante['idade'] = 21\n",
    "print(estudante)"
   ]
  },
  {
   "cell_type": "markdown",
   "metadata": {},
   "source": [
    "#### 7\n",
    "Crie uma lista chamada livros que contenha três dicionários, cada um representando um livro. Cada dicionário deve ter as chaves 'titulo', 'autor' e 'genero'.\n",
    "###### a) Adicione um novo livro à lista e imprima a lista atualizada.\n",
    "###### b) Remova o livro que está na posição 0 e imprima a lista atualizada"
   ]
  },
  {
   "cell_type": "code",
   "execution_count": 25,
   "metadata": {},
   "outputs": [
    {
     "name": "stdout",
     "output_type": "stream",
     "text": [
      "[{'titulo': 'Python para noobs', 'autor': 'Filipe Smith', 'genero': 'Computacao'}, {'titulo': 'Alice no pais dos Algoritmos', 'autor': 'John Doe', 'genero': 'Computacao'}, {'titulo': 'O Senhor dos GigaBytes', 'autor': 'J. R. R. TeraBytes', 'genero': 'Fantasia'}]\n",
      "[{'titulo': 'Python para noobs', 'autor': 'Filipe Smith', 'genero': 'Computacao'}, {'titulo': 'Alice no pais dos Algoritmos', 'autor': 'John Doe', 'genero': 'Computacao'}, {'titulo': 'O Senhor dos GigaBytes', 'autor': 'J. R. R. TeraBytes', 'genero': 'Fantasia'}, {'titulo': 'Adestrando Pythons', 'autor': 'Bill Doors', 'genero': 'Fantasia'}]\n",
      "[{'titulo': 'Alice no pais dos Algoritmos', 'autor': 'John Doe', 'genero': 'Computacao'}, {'titulo': 'O Senhor dos GigaBytes', 'autor': 'J. R. R. TeraBytes', 'genero': 'Fantasia'}, {'titulo': 'Adestrando Pythons', 'autor': 'Bill Doors', 'genero': 'Fantasia'}]\n"
     ]
    }
   ],
   "source": [
    "livros = [ {'titulo': 'Python para noobs', 'autor': 'Filipe Smith', 'genero': 'Computacao'}, {'titulo': 'Alice no pais dos Algoritmos', 'autor': 'John Doe', 'genero': 'Computacao'}, {'titulo': 'O Senhor dos GigaBytes', 'autor': 'J. R. R. TeraBytes', 'genero': 'Fantasia'} ]\n",
    "print(livros)\n",
    "livros.append({'titulo': 'Adestrando Pythons', 'autor': 'Bill Doors', 'genero': 'Fantasia'})\n",
    "print(livros)\n",
    "livros.pop(0)\n",
    "print(livros)"
   ]
  },
  {
   "cell_type": "markdown",
   "metadata": {},
   "source": [
    "#### 8\n",
    "Crie um set chamado gêneros que contenha três gêneros literários únicos, por exemplos: Distopia, Fantasia e etc. \n",
    "###### a) Adicione um novo gênero ao set e imprima o set atualizado.\n",
    "###### b) Verifique se o gênero 'Sci-Fi' está presente no set e imprima o resultado.\n",
    "###### c) Remova um gênero do set e imprima o set resultante.\n"
   ]
  },
  {
   "cell_type": "code",
   "execution_count": 27,
   "metadata": {},
   "outputs": [
    {
     "name": "stdout",
     "output_type": "stream",
     "text": [
      "{'tragedia', 'romance', 'farsa', 'madrigal'}\n",
      "Sci-fi não está no set generos\n",
      "{'romance', 'farsa', 'madrigal'}\n"
     ]
    }
   ],
   "source": [
    "generos = { 'madrigal', 'tragedia', 'farsa'}\n",
    "generos.add(\"romance\")\n",
    "print(generos)\n",
    "if \"Sci-fi\" in generos:\n",
    "    print(\"Sci-fi está no set generos\")\n",
    "else:\n",
    "    print(\"Sci-fi não está no set generos\")\n",
    "generos.remove(\"tragedia\")\n",
    "print(generos)"
   ]
  },
  {
   "cell_type": "markdown",
   "metadata": {},
   "source": [
    "#### 9\n",
    "Crie um programa que use um loop for para imprimir a tabela de multiplicação de um número fornecido pelo usuário, de 1 a 10."
   ]
  },
  {
   "cell_type": "code",
   "execution_count": 29,
   "metadata": {},
   "outputs": [
    {
     "name": "stdout",
     "output_type": "stream",
     "text": [
      "2 x 1 = 2\n",
      "2 x 2 = 4\n",
      "2 x 3 = 6\n",
      "2 x 4 = 8\n",
      "2 x 5 = 10\n",
      "2 x 6 = 12\n",
      "2 x 7 = 14\n",
      "2 x 8 = 16\n",
      "2 x 9 = 18\n",
      "2 x 10 = 20\n"
     ]
    }
   ],
   "source": [
    "numero_1 = int(input(\"Digite um número inteiro: \"))\n",
    "\n",
    "for i in range(1, 11):\n",
    "    resultado = numero_1 * i\n",
    "    print(f\"{numero_1} x {i} = {resultado}\")"
   ]
  }
 ],
 "metadata": {
  "kernelspec": {
   "display_name": "Python 3",
   "language": "python",
   "name": "python3"
  },
  "language_info": {
   "codemirror_mode": {
    "name": "ipython",
    "version": 3
   },
   "file_extension": ".py",
   "mimetype": "text/x-python",
   "name": "python",
   "nbconvert_exporter": "python",
   "pygments_lexer": "ipython3",
   "version": "3.12.5"
  }
 },
 "nbformat": 4,
 "nbformat_minor": 2
}
